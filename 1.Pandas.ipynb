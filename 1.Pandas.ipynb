{
 "cells": [
  {
   "cell_type": "markdown",
   "metadata": {},
   "source": [
    "# Introduction to Pandas"
   ]
  },
  {
   "cell_type": "markdown",
   "metadata": {},
   "source": [
    "## Pandas"
   ]
  },
  {
   "cell_type": "markdown",
   "metadata": {},
   "source": [
    "Pandas is a fast, powerful, flexible and easy to use Python library for data manipulation and analysis.\n",
    "\n",
    "Check Pandas documentation: https://pandas.pydata.org/docs/getting_started/index.html#getting-started"
   ]
  },
  {
   "cell_type": "code",
   "execution_count": 1,
   "metadata": {},
   "outputs": [],
   "source": [
    "#Install pandas\n",
    "#%pip install pandas"
   ]
  },
  {
   "cell_type": "code",
   "execution_count": 1,
   "metadata": {},
   "outputs": [],
   "source": [
    "#Import required libraries\n",
    "import numpy as np\n",
    "import pandas as pd"
   ]
  },
  {
   "cell_type": "markdown",
   "metadata": {},
   "source": [
    "### Pandas Series"
   ]
  },
  {
   "cell_type": "code",
   "execution_count": 2,
   "metadata": {},
   "outputs": [
    {
     "data": {
      "text/plain": [
       "0    1750\n",
       "1    1200\n",
       "2     450\n",
       "3    2000\n",
       "dtype: int64"
      ]
     },
     "execution_count": 2,
     "metadata": {},
     "output_type": "execute_result"
    }
   ],
   "source": [
    "#Demand for four different products\n",
    "s1 = pd.Series([1750, 1200, 450, 2000])\n",
    "s1"
   ]
  },
  {
   "cell_type": "code",
   "execution_count": 3,
   "metadata": {},
   "outputs": [
    {
     "data": {
      "text/plain": [
       "pandas.core.series.Series"
      ]
     },
     "execution_count": 3,
     "metadata": {},
     "output_type": "execute_result"
    }
   ],
   "source": [
    "type(s1)"
   ]
  },
  {
   "cell_type": "code",
   "execution_count": 4,
   "metadata": {},
   "outputs": [],
   "source": [
    "#without name\n",
    "s1.name"
   ]
  },
  {
   "cell_type": "code",
   "execution_count": 5,
   "metadata": {},
   "outputs": [
    {
     "data": {
      "text/plain": [
       "0    1750\n",
       "1    1200\n",
       "2     450\n",
       "3    2000\n",
       "Name: product_demand, dtype: int64"
      ]
     },
     "execution_count": 5,
     "metadata": {},
     "output_type": "execute_result"
    }
   ],
   "source": [
    "#Assign new name\n",
    "s1.name = 'product_demand'\n",
    "s1"
   ]
  },
  {
   "cell_type": "code",
   "execution_count": 6,
   "metadata": {},
   "outputs": [
    {
     "data": {
      "text/plain": [
       "array([1750, 1200,  450, 2000], dtype=int64)"
      ]
     },
     "execution_count": 6,
     "metadata": {},
     "output_type": "execute_result"
    }
   ],
   "source": [
    "s1.values"
   ]
  },
  {
   "cell_type": "code",
   "execution_count": 7,
   "metadata": {},
   "outputs": [
    {
     "data": {
      "text/plain": [
       "numpy.ndarray"
      ]
     },
     "execution_count": 7,
     "metadata": {},
     "output_type": "execute_result"
    }
   ],
   "source": [
    "type(s1.values)"
   ]
  },
  {
   "cell_type": "code",
   "execution_count": 8,
   "metadata": {},
   "outputs": [
    {
     "data": {
      "text/plain": [
       "RangeIndex(start=0, stop=4, step=1)"
      ]
     },
     "execution_count": 8,
     "metadata": {},
     "output_type": "execute_result"
    }
   ],
   "source": [
    "s1.index"
   ]
  },
  {
   "cell_type": "code",
   "execution_count": 9,
   "metadata": {},
   "outputs": [
    {
     "data": {
      "text/plain": [
       "1750"
      ]
     },
     "execution_count": 9,
     "metadata": {},
     "output_type": "execute_result"
    }
   ],
   "source": [
    "#Extract an item from Series with index\n",
    "s1[0]"
   ]
  },
  {
   "cell_type": "code",
   "execution_count": 10,
   "metadata": {},
   "outputs": [
    {
     "data": {
      "text/plain": [
       "Index(['p1', 'p2', 'p3', 'p4'], dtype='object')"
      ]
     },
     "execution_count": 10,
     "metadata": {},
     "output_type": "execute_result"
    }
   ],
   "source": [
    "s1.index = ['p1', 'p2', 'p3', 'p4']\n",
    "s1.index"
   ]
  },
  {
   "cell_type": "code",
   "execution_count": 11,
   "metadata": {},
   "outputs": [
    {
     "data": {
      "text/plain": [
       "1750"
      ]
     },
     "execution_count": 11,
     "metadata": {},
     "output_type": "execute_result"
    }
   ],
   "source": [
    "s1['p1']"
   ]
  },
  {
   "cell_type": "code",
   "execution_count": 12,
   "metadata": {},
   "outputs": [
    {
     "data": {
      "text/plain": [
       "p1    1000\n",
       "p2    1200\n",
       "p3     450\n",
       "p4    2000\n",
       "Name: product_demand, dtype: int64"
      ]
     },
     "execution_count": 12,
     "metadata": {},
     "output_type": "execute_result"
    }
   ],
   "source": [
    "#Modifying Series\n",
    "s1['p1'] = 1000\n",
    "s1"
   ]
  },
  {
   "cell_type": "code",
   "execution_count": 13,
   "metadata": {},
   "outputs": [
    {
     "data": {
      "text/plain": [
       "p1    1000\n",
       "p2    1200\n",
       "p3     450\n",
       "p4    2000\n",
       "p5    1250\n",
       "Name: product_demand, dtype: int64"
      ]
     },
     "execution_count": 13,
     "metadata": {},
     "output_type": "execute_result"
    }
   ],
   "source": [
    "s1['p5'] = 1250\n",
    "s1"
   ]
  },
  {
   "cell_type": "code",
   "execution_count": 14,
   "metadata": {},
   "outputs": [
    {
     "data": {
      "text/plain": [
       "p1    False\n",
       "p2     True\n",
       "p3    False\n",
       "p4     True\n",
       "p5     True\n",
       "Name: product_demand, dtype: bool"
      ]
     },
     "execution_count": 14,
     "metadata": {},
     "output_type": "execute_result"
    }
   ],
   "source": [
    "#Series Operations\n",
    "s1 > 1000"
   ]
  },
  {
   "cell_type": "code",
   "execution_count": 15,
   "metadata": {},
   "outputs": [
    {
     "data": {
      "text/plain": [
       "p2    1200\n",
       "p4    2000\n",
       "p5    1250\n",
       "Name: product_demand, dtype: int64"
      ]
     },
     "execution_count": 15,
     "metadata": {},
     "output_type": "execute_result"
    }
   ],
   "source": [
    "s1[s1 > 1000]"
   ]
  },
  {
   "cell_type": "code",
   "execution_count": 16,
   "metadata": {},
   "outputs": [
    {
     "data": {
      "text/plain": [
       "p1    1100.0\n",
       "p2    1320.0\n",
       "p3     495.0\n",
       "p4    2200.0\n",
       "p5    1375.0\n",
       "Name: product_demand, dtype: float64"
      ]
     },
     "execution_count": 16,
     "metadata": {},
     "output_type": "execute_result"
    }
   ],
   "source": [
    "s1 * 1.10"
   ]
  },
  {
   "cell_type": "code",
   "execution_count": 17,
   "metadata": {},
   "outputs": [
    {
     "data": {
      "text/plain": [
       "p1    1100.0\n",
       "p2    1320.0\n",
       "p3     495.0\n",
       "p4    2200.0\n",
       "p5    1375.0\n",
       "Name: product_demand, dtype: float64"
      ]
     },
     "execution_count": 17,
     "metadata": {},
     "output_type": "execute_result"
    }
   ],
   "source": [
    "s1 = s1 * 1.10\n",
    "s1"
   ]
  },
  {
   "cell_type": "code",
   "execution_count": 18,
   "metadata": {},
   "outputs": [
    {
     "data": {
      "text/plain": [
       "1298.0"
      ]
     },
     "execution_count": 18,
     "metadata": {},
     "output_type": "execute_result"
    }
   ],
   "source": [
    "s1.mean()"
   ]
  },
  {
   "cell_type": "code",
   "execution_count": 19,
   "metadata": {},
   "outputs": [
    {
     "data": {
      "text/plain": [
       "613.1945042154243"
      ]
     },
     "execution_count": 19,
     "metadata": {},
     "output_type": "execute_result"
    }
   ],
   "source": [
    "s1.std()"
   ]
  },
  {
   "cell_type": "code",
   "execution_count": 20,
   "metadata": {},
   "outputs": [
    {
     "data": {
      "text/plain": [
       "p1    1100.0\n",
       "Name: product_demand, dtype: float64"
      ]
     },
     "execution_count": 20,
     "metadata": {},
     "output_type": "execute_result"
    }
   ],
   "source": [
    "#  &: and\n",
    "#  |: or\n",
    "#  ~: not\n",
    "\n",
    "s1[(s1 < s1.mean()) & (s1 > 1000)]"
   ]
  },
  {
   "cell_type": "code",
   "execution_count": 21,
   "metadata": {},
   "outputs": [
    {
     "data": {
      "text/plain": [
       "p1    1100.0\n",
       "p2    1320.0\n",
       "p3       0.0\n",
       "p4    2200.0\n",
       "p5    1375.0\n",
       "Name: product_demand, dtype: float64"
      ]
     },
     "execution_count": 21,
     "metadata": {},
     "output_type": "execute_result"
    }
   ],
   "source": [
    "s1[s1 <= 1000] = 0\n",
    "s1"
   ]
  },
  {
   "cell_type": "markdown",
   "metadata": {},
   "source": [
    "### Dataframes"
   ]
  },
  {
   "cell_type": "code",
   "execution_count": 22,
   "metadata": {},
   "outputs": [
    {
     "data": {
      "text/html": [
       "<div>\n",
       "<style scoped>\n",
       "    .dataframe tbody tr th:only-of-type {\n",
       "        vertical-align: middle;\n",
       "    }\n",
       "\n",
       "    .dataframe tbody tr th {\n",
       "        vertical-align: top;\n",
       "    }\n",
       "\n",
       "    .dataframe thead th {\n",
       "        text-align: right;\n",
       "    }\n",
       "</style>\n",
       "<table border=\"1\" class=\"dataframe\">\n",
       "  <thead>\n",
       "    <tr style=\"text-align: right;\">\n",
       "      <th></th>\n",
       "      <th>name</th>\n",
       "      <th>demand</th>\n",
       "      <th>brand</th>\n",
       "      <th>weight</th>\n",
       "    </tr>\n",
       "  </thead>\n",
       "  <tbody>\n",
       "    <tr>\n",
       "      <th>0</th>\n",
       "      <td>p1</td>\n",
       "      <td>1750</td>\n",
       "      <td>x</td>\n",
       "      <td>150</td>\n",
       "    </tr>\n",
       "    <tr>\n",
       "      <th>1</th>\n",
       "      <td>p2</td>\n",
       "      <td>1200</td>\n",
       "      <td>x</td>\n",
       "      <td>200</td>\n",
       "    </tr>\n",
       "    <tr>\n",
       "      <th>2</th>\n",
       "      <td>p3</td>\n",
       "      <td>450</td>\n",
       "      <td>y</td>\n",
       "      <td>1500</td>\n",
       "    </tr>\n",
       "    <tr>\n",
       "      <th>3</th>\n",
       "      <td>p4</td>\n",
       "      <td>2000</td>\n",
       "      <td>z</td>\n",
       "      <td>200</td>\n",
       "    </tr>\n",
       "  </tbody>\n",
       "</table>\n",
       "</div>"
      ],
      "text/plain": [
       "  name  demand brand  weight\n",
       "0   p1    1750     x     150\n",
       "1   p2    1200     x     200\n",
       "2   p3     450     y    1500\n",
       "3   p4    2000     z     200"
      ]
     },
     "execution_count": 22,
     "metadata": {},
     "output_type": "execute_result"
    }
   ],
   "source": [
    "df = pd.DataFrame({'name'  : ['p1', 'p2', 'p3', 'p4'],\n",
    "                   'demand': [1750, 1200, 450, 2000],\n",
    "                   'brand' : ['x', 'x', 'y', 'z'],\n",
    "                   'weight': [150, 200, 1500, 200]})\n",
    "df"
   ]
  },
  {
   "cell_type": "code",
   "execution_count": 23,
   "metadata": {},
   "outputs": [
    {
     "data": {
      "text/plain": [
       "pandas.core.frame.DataFrame"
      ]
     },
     "execution_count": 23,
     "metadata": {},
     "output_type": "execute_result"
    }
   ],
   "source": [
    "type(df)"
   ]
  },
  {
   "cell_type": "code",
   "execution_count": 24,
   "metadata": {},
   "outputs": [
    {
     "data": {
      "text/plain": [
       "(4, 4)"
      ]
     },
     "execution_count": 24,
     "metadata": {},
     "output_type": "execute_result"
    }
   ],
   "source": [
    "df.shape"
   ]
  },
  {
   "cell_type": "code",
   "execution_count": 25,
   "metadata": {},
   "outputs": [
    {
     "data": {
      "text/plain": [
       "Index(['name', 'demand', 'brand', 'weight'], dtype='object')"
      ]
     },
     "execution_count": 25,
     "metadata": {},
     "output_type": "execute_result"
    }
   ],
   "source": [
    "df.columns"
   ]
  },
  {
   "cell_type": "code",
   "execution_count": 26,
   "metadata": {},
   "outputs": [
    {
     "data": {
      "text/plain": [
       "RangeIndex(start=0, stop=4, step=1)"
      ]
     },
     "execution_count": 26,
     "metadata": {},
     "output_type": "execute_result"
    }
   ],
   "source": [
    "df.index"
   ]
  },
  {
   "cell_type": "code",
   "execution_count": 27,
   "metadata": {},
   "outputs": [
    {
     "data": {
      "text/html": [
       "<div>\n",
       "<style scoped>\n",
       "    .dataframe tbody tr th:only-of-type {\n",
       "        vertical-align: middle;\n",
       "    }\n",
       "\n",
       "    .dataframe tbody tr th {\n",
       "        vertical-align: top;\n",
       "    }\n",
       "\n",
       "    .dataframe thead th {\n",
       "        text-align: right;\n",
       "    }\n",
       "</style>\n",
       "<table border=\"1\" class=\"dataframe\">\n",
       "  <thead>\n",
       "    <tr style=\"text-align: right;\">\n",
       "      <th></th>\n",
       "      <th>name</th>\n",
       "      <th>demand</th>\n",
       "      <th>brand</th>\n",
       "      <th>weight</th>\n",
       "    </tr>\n",
       "  </thead>\n",
       "  <tbody>\n",
       "    <tr>\n",
       "      <th>p1</th>\n",
       "      <td>p1</td>\n",
       "      <td>1750</td>\n",
       "      <td>x</td>\n",
       "      <td>150</td>\n",
       "    </tr>\n",
       "    <tr>\n",
       "      <th>p2</th>\n",
       "      <td>p2</td>\n",
       "      <td>1200</td>\n",
       "      <td>x</td>\n",
       "      <td>200</td>\n",
       "    </tr>\n",
       "    <tr>\n",
       "      <th>p3</th>\n",
       "      <td>p3</td>\n",
       "      <td>450</td>\n",
       "      <td>y</td>\n",
       "      <td>1500</td>\n",
       "    </tr>\n",
       "    <tr>\n",
       "      <th>p4</th>\n",
       "      <td>p4</td>\n",
       "      <td>2000</td>\n",
       "      <td>z</td>\n",
       "      <td>200</td>\n",
       "    </tr>\n",
       "  </tbody>\n",
       "</table>\n",
       "</div>"
      ],
      "text/plain": [
       "   name  demand brand  weight\n",
       "p1   p1    1750     x     150\n",
       "p2   p2    1200     x     200\n",
       "p3   p3     450     y    1500\n",
       "p4   p4    2000     z     200"
      ]
     },
     "execution_count": 27,
     "metadata": {},
     "output_type": "execute_result"
    }
   ],
   "source": [
    "df.index = ['p1', 'p2', 'p3', 'p4']\n",
    "df"
   ]
  },
  {
   "cell_type": "code",
   "execution_count": 28,
   "metadata": {},
   "outputs": [
    {
     "name": "stdout",
     "output_type": "stream",
     "text": [
      "<class 'pandas.core.frame.DataFrame'>\n",
      "Index: 4 entries, p1 to p4\n",
      "Data columns (total 4 columns):\n",
      " #   Column  Non-Null Count  Dtype \n",
      "---  ------  --------------  ----- \n",
      " 0   name    4 non-null      object\n",
      " 1   demand  4 non-null      int64 \n",
      " 2   brand   4 non-null      object\n",
      " 3   weight  4 non-null      int64 \n",
      "dtypes: int64(2), object(2)\n",
      "memory usage: 160.0+ bytes\n"
     ]
    }
   ],
   "source": [
    "df.info()"
   ]
  },
  {
   "cell_type": "markdown",
   "metadata": {},
   "source": [
    "#### Subsetting Dataframes"
   ]
  },
  {
   "cell_type": "code",
   "execution_count": 29,
   "metadata": {},
   "outputs": [
    {
     "data": {
      "text/html": [
       "<div>\n",
       "<style scoped>\n",
       "    .dataframe tbody tr th:only-of-type {\n",
       "        vertical-align: middle;\n",
       "    }\n",
       "\n",
       "    .dataframe tbody tr th {\n",
       "        vertical-align: top;\n",
       "    }\n",
       "\n",
       "    .dataframe thead th {\n",
       "        text-align: right;\n",
       "    }\n",
       "</style>\n",
       "<table border=\"1\" class=\"dataframe\">\n",
       "  <thead>\n",
       "    <tr style=\"text-align: right;\">\n",
       "      <th></th>\n",
       "      <th>name</th>\n",
       "      <th>demand</th>\n",
       "      <th>brand</th>\n",
       "      <th>weight</th>\n",
       "    </tr>\n",
       "  </thead>\n",
       "  <tbody>\n",
       "    <tr>\n",
       "      <th>p1</th>\n",
       "      <td>p1</td>\n",
       "      <td>1750</td>\n",
       "      <td>x</td>\n",
       "      <td>150</td>\n",
       "    </tr>\n",
       "    <tr>\n",
       "      <th>p2</th>\n",
       "      <td>p2</td>\n",
       "      <td>1200</td>\n",
       "      <td>x</td>\n",
       "      <td>200</td>\n",
       "    </tr>\n",
       "    <tr>\n",
       "      <th>p3</th>\n",
       "      <td>p3</td>\n",
       "      <td>450</td>\n",
       "      <td>y</td>\n",
       "      <td>1500</td>\n",
       "    </tr>\n",
       "    <tr>\n",
       "      <th>p4</th>\n",
       "      <td>p4</td>\n",
       "      <td>2000</td>\n",
       "      <td>z</td>\n",
       "      <td>200</td>\n",
       "    </tr>\n",
       "  </tbody>\n",
       "</table>\n",
       "</div>"
      ],
      "text/plain": [
       "   name  demand brand  weight\n",
       "p1   p1    1750     x     150\n",
       "p2   p2    1200     x     200\n",
       "p3   p3     450     y    1500\n",
       "p4   p4    2000     z     200"
      ]
     },
     "execution_count": 29,
     "metadata": {},
     "output_type": "execute_result"
    }
   ],
   "source": [
    "df"
   ]
  },
  {
   "cell_type": "code",
   "execution_count": 30,
   "metadata": {},
   "outputs": [
    {
     "data": {
      "text/plain": [
       "p1    1750\n",
       "p2    1200\n",
       "p3     450\n",
       "p4    2000\n",
       "Name: demand, dtype: int64"
      ]
     },
     "execution_count": 30,
     "metadata": {},
     "output_type": "execute_result"
    }
   ],
   "source": [
    "df.demand"
   ]
  },
  {
   "cell_type": "code",
   "execution_count": 31,
   "metadata": {},
   "outputs": [
    {
     "data": {
      "text/plain": [
       "p1    1750\n",
       "p2    1200\n",
       "p3     450\n",
       "p4    2000\n",
       "Name: demand, dtype: int64"
      ]
     },
     "execution_count": 31,
     "metadata": {},
     "output_type": "execute_result"
    }
   ],
   "source": [
    "df['demand']"
   ]
  },
  {
   "cell_type": "code",
   "execution_count": 32,
   "metadata": {},
   "outputs": [
    {
     "data": {
      "text/html": [
       "<div>\n",
       "<style scoped>\n",
       "    .dataframe tbody tr th:only-of-type {\n",
       "        vertical-align: middle;\n",
       "    }\n",
       "\n",
       "    .dataframe tbody tr th {\n",
       "        vertical-align: top;\n",
       "    }\n",
       "\n",
       "    .dataframe thead th {\n",
       "        text-align: right;\n",
       "    }\n",
       "</style>\n",
       "<table border=\"1\" class=\"dataframe\">\n",
       "  <thead>\n",
       "    <tr style=\"text-align: right;\">\n",
       "      <th></th>\n",
       "      <th>name</th>\n",
       "      <th>demand</th>\n",
       "    </tr>\n",
       "  </thead>\n",
       "  <tbody>\n",
       "    <tr>\n",
       "      <th>p1</th>\n",
       "      <td>p1</td>\n",
       "      <td>1750</td>\n",
       "    </tr>\n",
       "    <tr>\n",
       "      <th>p2</th>\n",
       "      <td>p2</td>\n",
       "      <td>1200</td>\n",
       "    </tr>\n",
       "    <tr>\n",
       "      <th>p3</th>\n",
       "      <td>p3</td>\n",
       "      <td>450</td>\n",
       "    </tr>\n",
       "    <tr>\n",
       "      <th>p4</th>\n",
       "      <td>p4</td>\n",
       "      <td>2000</td>\n",
       "    </tr>\n",
       "  </tbody>\n",
       "</table>\n",
       "</div>"
      ],
      "text/plain": [
       "   name  demand\n",
       "p1   p1    1750\n",
       "p2   p2    1200\n",
       "p3   p3     450\n",
       "p4   p4    2000"
      ]
     },
     "execution_count": 32,
     "metadata": {},
     "output_type": "execute_result"
    }
   ],
   "source": [
    "df[['name', 'demand']]"
   ]
  },
  {
   "cell_type": "code",
   "execution_count": 33,
   "metadata": {},
   "outputs": [
    {
     "data": {
      "text/plain": [
       "1750"
      ]
     },
     "execution_count": 33,
     "metadata": {},
     "output_type": "execute_result"
    }
   ],
   "source": [
    "#.iloc[ ] allows us to retrieve rows and columns by position.\n",
    "df.iloc[0, 1]"
   ]
  },
  {
   "cell_type": "code",
   "execution_count": 34,
   "metadata": {},
   "outputs": [
    {
     "data": {
      "text/plain": [
       "name        p1\n",
       "demand    1750\n",
       "brand        x\n",
       "weight     150\n",
       "Name: p1, dtype: object"
      ]
     },
     "execution_count": 34,
     "metadata": {},
     "output_type": "execute_result"
    }
   ],
   "source": [
    "#Extract information of first product\n",
    "df.iloc[0, :]"
   ]
  },
  {
   "cell_type": "code",
   "execution_count": 35,
   "metadata": {},
   "outputs": [
    {
     "data": {
      "text/plain": [
       "p1    x\n",
       "p2    x\n",
       "p3    y\n",
       "p4    z\n",
       "Name: brand, dtype: object"
      ]
     },
     "execution_count": 35,
     "metadata": {},
     "output_type": "execute_result"
    }
   ],
   "source": [
    "#Extract brand column\n",
    "df.iloc[:, 2]"
   ]
  },
  {
   "cell_type": "code",
   "execution_count": 36,
   "metadata": {},
   "outputs": [
    {
     "data": {
      "text/html": [
       "<div>\n",
       "<style scoped>\n",
       "    .dataframe tbody tr th:only-of-type {\n",
       "        vertical-align: middle;\n",
       "    }\n",
       "\n",
       "    .dataframe tbody tr th {\n",
       "        vertical-align: top;\n",
       "    }\n",
       "\n",
       "    .dataframe thead th {\n",
       "        text-align: right;\n",
       "    }\n",
       "</style>\n",
       "<table border=\"1\" class=\"dataframe\">\n",
       "  <thead>\n",
       "    <tr style=\"text-align: right;\">\n",
       "      <th></th>\n",
       "      <th>name</th>\n",
       "      <th>brand</th>\n",
       "    </tr>\n",
       "  </thead>\n",
       "  <tbody>\n",
       "    <tr>\n",
       "      <th>p1</th>\n",
       "      <td>p1</td>\n",
       "      <td>x</td>\n",
       "    </tr>\n",
       "    <tr>\n",
       "      <th>p3</th>\n",
       "      <td>p3</td>\n",
       "      <td>y</td>\n",
       "    </tr>\n",
       "    <tr>\n",
       "      <th>p4</th>\n",
       "      <td>p4</td>\n",
       "      <td>z</td>\n",
       "    </tr>\n",
       "  </tbody>\n",
       "</table>\n",
       "</div>"
      ],
      "text/plain": [
       "   name brand\n",
       "p1   p1     x\n",
       "p3   p3     y\n",
       "p4   p4     z"
      ]
     },
     "execution_count": 36,
     "metadata": {},
     "output_type": "execute_result"
    }
   ],
   "source": [
    "#Extract name & brand columns for p1, p3, and p4\n",
    "df.iloc[[0, 2, 3], [0, 2]]"
   ]
  },
  {
   "cell_type": "code",
   "execution_count": 37,
   "metadata": {},
   "outputs": [
    {
     "data": {
      "text/plain": [
       "name        p1\n",
       "demand    1750\n",
       "brand        x\n",
       "weight     150\n",
       "Name: p1, dtype: object"
      ]
     },
     "execution_count": 37,
     "metadata": {},
     "output_type": "execute_result"
    }
   ],
   "source": [
    "#.loc[] selects data by the label of the rows and columns. \n",
    "#Extract information of first product\n",
    "df.loc['p1', :]"
   ]
  },
  {
   "cell_type": "code",
   "execution_count": 38,
   "metadata": {},
   "outputs": [
    {
     "data": {
      "text/plain": [
       "p1    x\n",
       "p2    x\n",
       "p3    y\n",
       "p4    z\n",
       "Name: brand, dtype: object"
      ]
     },
     "execution_count": 38,
     "metadata": {},
     "output_type": "execute_result"
    }
   ],
   "source": [
    "#Extract brand column\n",
    "df.loc[:, 'brand']"
   ]
  },
  {
   "cell_type": "code",
   "execution_count": 39,
   "metadata": {},
   "outputs": [
    {
     "data": {
      "text/html": [
       "<div>\n",
       "<style scoped>\n",
       "    .dataframe tbody tr th:only-of-type {\n",
       "        vertical-align: middle;\n",
       "    }\n",
       "\n",
       "    .dataframe tbody tr th {\n",
       "        vertical-align: top;\n",
       "    }\n",
       "\n",
       "    .dataframe thead th {\n",
       "        text-align: right;\n",
       "    }\n",
       "</style>\n",
       "<table border=\"1\" class=\"dataframe\">\n",
       "  <thead>\n",
       "    <tr style=\"text-align: right;\">\n",
       "      <th></th>\n",
       "      <th>name</th>\n",
       "      <th>brand</th>\n",
       "    </tr>\n",
       "  </thead>\n",
       "  <tbody>\n",
       "    <tr>\n",
       "      <th>p1</th>\n",
       "      <td>p1</td>\n",
       "      <td>x</td>\n",
       "    </tr>\n",
       "    <tr>\n",
       "      <th>p3</th>\n",
       "      <td>p3</td>\n",
       "      <td>y</td>\n",
       "    </tr>\n",
       "    <tr>\n",
       "      <th>p4</th>\n",
       "      <td>p4</td>\n",
       "      <td>z</td>\n",
       "    </tr>\n",
       "  </tbody>\n",
       "</table>\n",
       "</div>"
      ],
      "text/plain": [
       "   name brand\n",
       "p1   p1     x\n",
       "p3   p3     y\n",
       "p4   p4     z"
      ]
     },
     "execution_count": 39,
     "metadata": {},
     "output_type": "execute_result"
    }
   ],
   "source": [
    "#Extract name & brand columns for p1, p3, and p4\n",
    "df.loc[['p1', 'p3', 'p4'], ['name', 'brand']]"
   ]
  },
  {
   "cell_type": "code",
   "execution_count": 40,
   "metadata": {},
   "outputs": [
    {
     "data": {
      "text/plain": [
       "p1    False\n",
       "p2     True\n",
       "p3     True\n",
       "p4    False\n",
       "Name: demand, dtype: bool"
      ]
     },
     "execution_count": 40,
     "metadata": {},
     "output_type": "execute_result"
    }
   ],
   "source": [
    "#Check if demand below 1500\n",
    "df['demand'] < 1500"
   ]
  },
  {
   "cell_type": "code",
   "execution_count": 41,
   "metadata": {},
   "outputs": [
    {
     "data": {
      "text/plain": [
       "p2    p2\n",
       "p3    p3\n",
       "Name: name, dtype: object"
      ]
     },
     "execution_count": 41,
     "metadata": {},
     "output_type": "execute_result"
    }
   ],
   "source": [
    "#Identify products with demand below 1500\n",
    "df.loc[df['demand'] < 1500, 'name']"
   ]
  },
  {
   "cell_type": "markdown",
   "metadata": {},
   "source": [
    "#### Modifying Dataframes"
   ]
  },
  {
   "cell_type": "code",
   "execution_count": 42,
   "metadata": {},
   "outputs": [
    {
     "data": {
      "text/html": [
       "<div>\n",
       "<style scoped>\n",
       "    .dataframe tbody tr th:only-of-type {\n",
       "        vertical-align: middle;\n",
       "    }\n",
       "\n",
       "    .dataframe tbody tr th {\n",
       "        vertical-align: top;\n",
       "    }\n",
       "\n",
       "    .dataframe thead th {\n",
       "        text-align: right;\n",
       "    }\n",
       "</style>\n",
       "<table border=\"1\" class=\"dataframe\">\n",
       "  <thead>\n",
       "    <tr style=\"text-align: right;\">\n",
       "      <th></th>\n",
       "      <th>name</th>\n",
       "      <th>demand</th>\n",
       "      <th>brand</th>\n",
       "      <th>weight</th>\n",
       "      <th>price</th>\n",
       "    </tr>\n",
       "  </thead>\n",
       "  <tbody>\n",
       "    <tr>\n",
       "      <th>p1</th>\n",
       "      <td>p1</td>\n",
       "      <td>1750</td>\n",
       "      <td>x</td>\n",
       "      <td>150</td>\n",
       "      <td>20</td>\n",
       "    </tr>\n",
       "    <tr>\n",
       "      <th>p2</th>\n",
       "      <td>p2</td>\n",
       "      <td>1200</td>\n",
       "      <td>x</td>\n",
       "      <td>200</td>\n",
       "      <td>15</td>\n",
       "    </tr>\n",
       "    <tr>\n",
       "      <th>p3</th>\n",
       "      <td>p3</td>\n",
       "      <td>450</td>\n",
       "      <td>y</td>\n",
       "      <td>1500</td>\n",
       "      <td>50</td>\n",
       "    </tr>\n",
       "    <tr>\n",
       "      <th>p4</th>\n",
       "      <td>p4</td>\n",
       "      <td>2000</td>\n",
       "      <td>z</td>\n",
       "      <td>200</td>\n",
       "      <td>10</td>\n",
       "    </tr>\n",
       "  </tbody>\n",
       "</table>\n",
       "</div>"
      ],
      "text/plain": [
       "   name  demand brand  weight  price\n",
       "p1   p1    1750     x     150     20\n",
       "p2   p2    1200     x     200     15\n",
       "p3   p3     450     y    1500     50\n",
       "p4   p4    2000     z     200     10"
      ]
     },
     "execution_count": 42,
     "metadata": {},
     "output_type": "execute_result"
    }
   ],
   "source": [
    "#Add new column \n",
    "df['price'] = [20, 15, 50, 10]\n",
    "df"
   ]
  },
  {
   "cell_type": "code",
   "execution_count": 43,
   "metadata": {},
   "outputs": [
    {
     "data": {
      "text/html": [
       "<div>\n",
       "<style scoped>\n",
       "    .dataframe tbody tr th:only-of-type {\n",
       "        vertical-align: middle;\n",
       "    }\n",
       "\n",
       "    .dataframe tbody tr th {\n",
       "        vertical-align: top;\n",
       "    }\n",
       "\n",
       "    .dataframe thead th {\n",
       "        text-align: right;\n",
       "    }\n",
       "</style>\n",
       "<table border=\"1\" class=\"dataframe\">\n",
       "  <thead>\n",
       "    <tr style=\"text-align: right;\">\n",
       "      <th></th>\n",
       "      <th>name</th>\n",
       "      <th>demand</th>\n",
       "      <th>brand</th>\n",
       "      <th>weight</th>\n",
       "      <th>price</th>\n",
       "    </tr>\n",
       "  </thead>\n",
       "  <tbody>\n",
       "    <tr>\n",
       "      <th>p1</th>\n",
       "      <td>p1</td>\n",
       "      <td>1750</td>\n",
       "      <td>x</td>\n",
       "      <td>150</td>\n",
       "      <td>20</td>\n",
       "    </tr>\n",
       "    <tr>\n",
       "      <th>p2</th>\n",
       "      <td>p2</td>\n",
       "      <td>1200</td>\n",
       "      <td>x</td>\n",
       "      <td>200</td>\n",
       "      <td>15</td>\n",
       "    </tr>\n",
       "    <tr>\n",
       "      <th>p3</th>\n",
       "      <td>p3</td>\n",
       "      <td>450</td>\n",
       "      <td>y</td>\n",
       "      <td>1500</td>\n",
       "      <td>50</td>\n",
       "    </tr>\n",
       "    <tr>\n",
       "      <th>p4</th>\n",
       "      <td>p4</td>\n",
       "      <td>2000</td>\n",
       "      <td>z</td>\n",
       "      <td>200</td>\n",
       "      <td>10</td>\n",
       "    </tr>\n",
       "    <tr>\n",
       "      <th>p5</th>\n",
       "      <td>p5</td>\n",
       "      <td>1000</td>\n",
       "      <td>x</td>\n",
       "      <td>500</td>\n",
       "      <td>60</td>\n",
       "    </tr>\n",
       "  </tbody>\n",
       "</table>\n",
       "</div>"
      ],
      "text/plain": [
       "   name  demand brand  weight  price\n",
       "p1   p1    1750     x     150     20\n",
       "p2   p2    1200     x     200     15\n",
       "p3   p3     450     y    1500     50\n",
       "p4   p4    2000     z     200     10\n",
       "p5   p5    1000     x     500     60"
      ]
     },
     "execution_count": 43,
     "metadata": {},
     "output_type": "execute_result"
    }
   ],
   "source": [
    "#Add new row\n",
    "df.loc['p5'] = pd.Series({'name': 'p5', \n",
    "                          'demand': 1000,\n",
    "                          'brand': 'x', \n",
    "                          'weight': 500,\n",
    "                          'price': 60})\n",
    "df"
   ]
  },
  {
   "cell_type": "code",
   "execution_count": 44,
   "metadata": {},
   "outputs": [
    {
     "data": {
      "text/html": [
       "<div>\n",
       "<style scoped>\n",
       "    .dataframe tbody tr th:only-of-type {\n",
       "        vertical-align: middle;\n",
       "    }\n",
       "\n",
       "    .dataframe tbody tr th {\n",
       "        vertical-align: top;\n",
       "    }\n",
       "\n",
       "    .dataframe thead th {\n",
       "        text-align: right;\n",
       "    }\n",
       "</style>\n",
       "<table border=\"1\" class=\"dataframe\">\n",
       "  <thead>\n",
       "    <tr style=\"text-align: right;\">\n",
       "      <th></th>\n",
       "      <th>name</th>\n",
       "      <th>demand</th>\n",
       "      <th>brand</th>\n",
       "      <th>weight</th>\n",
       "      <th>price</th>\n",
       "    </tr>\n",
       "  </thead>\n",
       "  <tbody>\n",
       "    <tr>\n",
       "      <th>p1</th>\n",
       "      <td>p1</td>\n",
       "      <td>1750</td>\n",
       "      <td>x</td>\n",
       "      <td>150</td>\n",
       "      <td>20</td>\n",
       "    </tr>\n",
       "    <tr>\n",
       "      <th>p2</th>\n",
       "      <td>p2</td>\n",
       "      <td>1200</td>\n",
       "      <td>x</td>\n",
       "      <td>200</td>\n",
       "      <td>15</td>\n",
       "    </tr>\n",
       "    <tr>\n",
       "      <th>p3</th>\n",
       "      <td>p3</td>\n",
       "      <td>700</td>\n",
       "      <td>y</td>\n",
       "      <td>1500</td>\n",
       "      <td>50</td>\n",
       "    </tr>\n",
       "    <tr>\n",
       "      <th>p4</th>\n",
       "      <td>p4</td>\n",
       "      <td>2000</td>\n",
       "      <td>z</td>\n",
       "      <td>200</td>\n",
       "      <td>10</td>\n",
       "    </tr>\n",
       "    <tr>\n",
       "      <th>p5</th>\n",
       "      <td>p5</td>\n",
       "      <td>1000</td>\n",
       "      <td>x</td>\n",
       "      <td>500</td>\n",
       "      <td>60</td>\n",
       "    </tr>\n",
       "  </tbody>\n",
       "</table>\n",
       "</div>"
      ],
      "text/plain": [
       "   name  demand brand  weight  price\n",
       "p1   p1    1750     x     150     20\n",
       "p2   p2    1200     x     200     15\n",
       "p3   p3     700     y    1500     50\n",
       "p4   p4    2000     z     200     10\n",
       "p5   p5    1000     x     500     60"
      ]
     },
     "execution_count": 44,
     "metadata": {},
     "output_type": "execute_result"
    }
   ],
   "source": [
    "#Change demand of 'p3' into 700\n",
    "df.loc['p3', 'demand'] = 700\n",
    "df"
   ]
  },
  {
   "cell_type": "code",
   "execution_count": 45,
   "metadata": {},
   "outputs": [
    {
     "data": {
      "text/html": [
       "<div>\n",
       "<style scoped>\n",
       "    .dataframe tbody tr th:only-of-type {\n",
       "        vertical-align: middle;\n",
       "    }\n",
       "\n",
       "    .dataframe tbody tr th {\n",
       "        vertical-align: top;\n",
       "    }\n",
       "\n",
       "    .dataframe thead th {\n",
       "        text-align: right;\n",
       "    }\n",
       "</style>\n",
       "<table border=\"1\" class=\"dataframe\">\n",
       "  <thead>\n",
       "    <tr style=\"text-align: right;\">\n",
       "      <th></th>\n",
       "      <th>name</th>\n",
       "      <th>demand</th>\n",
       "      <th>brand</th>\n",
       "      <th>weight</th>\n",
       "      <th>price</th>\n",
       "      <th>revenue</th>\n",
       "    </tr>\n",
       "  </thead>\n",
       "  <tbody>\n",
       "    <tr>\n",
       "      <th>p1</th>\n",
       "      <td>p1</td>\n",
       "      <td>1750</td>\n",
       "      <td>x</td>\n",
       "      <td>150</td>\n",
       "      <td>20</td>\n",
       "      <td>35000</td>\n",
       "    </tr>\n",
       "    <tr>\n",
       "      <th>p2</th>\n",
       "      <td>p2</td>\n",
       "      <td>1200</td>\n",
       "      <td>x</td>\n",
       "      <td>200</td>\n",
       "      <td>15</td>\n",
       "      <td>18000</td>\n",
       "    </tr>\n",
       "    <tr>\n",
       "      <th>p3</th>\n",
       "      <td>p3</td>\n",
       "      <td>700</td>\n",
       "      <td>y</td>\n",
       "      <td>1500</td>\n",
       "      <td>50</td>\n",
       "      <td>35000</td>\n",
       "    </tr>\n",
       "    <tr>\n",
       "      <th>p4</th>\n",
       "      <td>p4</td>\n",
       "      <td>2000</td>\n",
       "      <td>z</td>\n",
       "      <td>200</td>\n",
       "      <td>10</td>\n",
       "      <td>20000</td>\n",
       "    </tr>\n",
       "    <tr>\n",
       "      <th>p5</th>\n",
       "      <td>p5</td>\n",
       "      <td>1000</td>\n",
       "      <td>x</td>\n",
       "      <td>500</td>\n",
       "      <td>60</td>\n",
       "      <td>60000</td>\n",
       "    </tr>\n",
       "  </tbody>\n",
       "</table>\n",
       "</div>"
      ],
      "text/plain": [
       "   name  demand brand  weight  price  revenue\n",
       "p1   p1    1750     x     150     20    35000\n",
       "p2   p2    1200     x     200     15    18000\n",
       "p3   p3     700     y    1500     50    35000\n",
       "p4   p4    2000     z     200     10    20000\n",
       "p5   p5    1000     x     500     60    60000"
      ]
     },
     "execution_count": 45,
     "metadata": {},
     "output_type": "execute_result"
    }
   ],
   "source": [
    "#Calculate total revenue for each product\n",
    "df['revenue'] = df['demand'] * df['price']\n",
    "df"
   ]
  },
  {
   "cell_type": "code",
   "execution_count": 46,
   "metadata": {},
   "outputs": [
    {
     "data": {
      "text/html": [
       "<div>\n",
       "<style scoped>\n",
       "    .dataframe tbody tr th:only-of-type {\n",
       "        vertical-align: middle;\n",
       "    }\n",
       "\n",
       "    .dataframe tbody tr th {\n",
       "        vertical-align: top;\n",
       "    }\n",
       "\n",
       "    .dataframe thead th {\n",
       "        text-align: right;\n",
       "    }\n",
       "</style>\n",
       "<table border=\"1\" class=\"dataframe\">\n",
       "  <thead>\n",
       "    <tr style=\"text-align: right;\">\n",
       "      <th></th>\n",
       "      <th>name</th>\n",
       "      <th>demand</th>\n",
       "      <th>brand</th>\n",
       "      <th>weight</th>\n",
       "      <th>price</th>\n",
       "      <th>revenue</th>\n",
       "    </tr>\n",
       "  </thead>\n",
       "  <tbody>\n",
       "    <tr>\n",
       "      <th>p1</th>\n",
       "      <td>p1</td>\n",
       "      <td>1750</td>\n",
       "      <td>x</td>\n",
       "      <td>150</td>\n",
       "      <td>20.00</td>\n",
       "      <td>35000.0</td>\n",
       "    </tr>\n",
       "    <tr>\n",
       "      <th>p2</th>\n",
       "      <td>p2</td>\n",
       "      <td>1200</td>\n",
       "      <td>x</td>\n",
       "      <td>200</td>\n",
       "      <td>15.75</td>\n",
       "      <td>18900.0</td>\n",
       "    </tr>\n",
       "    <tr>\n",
       "      <th>p3</th>\n",
       "      <td>p3</td>\n",
       "      <td>700</td>\n",
       "      <td>y</td>\n",
       "      <td>1500</td>\n",
       "      <td>50.00</td>\n",
       "      <td>35000.0</td>\n",
       "    </tr>\n",
       "    <tr>\n",
       "      <th>p4</th>\n",
       "      <td>p4</td>\n",
       "      <td>2000</td>\n",
       "      <td>z</td>\n",
       "      <td>200</td>\n",
       "      <td>10.50</td>\n",
       "      <td>21000.0</td>\n",
       "    </tr>\n",
       "    <tr>\n",
       "      <th>p5</th>\n",
       "      <td>p5</td>\n",
       "      <td>1000</td>\n",
       "      <td>x</td>\n",
       "      <td>500</td>\n",
       "      <td>60.00</td>\n",
       "      <td>60000.0</td>\n",
       "    </tr>\n",
       "  </tbody>\n",
       "</table>\n",
       "</div>"
      ],
      "text/plain": [
       "   name  demand brand  weight  price  revenue\n",
       "p1   p1    1750     x     150  20.00  35000.0\n",
       "p2   p2    1200     x     200  15.75  18900.0\n",
       "p3   p3     700     y    1500  50.00  35000.0\n",
       "p4   p4    2000     z     200  10.50  21000.0\n",
       "p5   p5    1000     x     500  60.00  60000.0"
      ]
     },
     "execution_count": 46,
     "metadata": {},
     "output_type": "execute_result"
    }
   ],
   "source": [
    "#Modifying dataframe using conditional selection\n",
    "#Question: increase price of products below 20 by 5% and\n",
    "# recalculate monthly revenue\n",
    "df.loc[df['price'] < 20, 'price'] = 1.05 * df.loc[df['price'] < 20, 'price']\n",
    "df['revenue'] = df['demand'] * df['price']\n",
    "df"
   ]
  },
  {
   "cell_type": "markdown",
   "metadata": {},
   "source": [
    "### Import CSV Data File into a Pandas Dataframe"
   ]
  },
  {
   "cell_type": "code",
   "execution_count": 51,
   "metadata": {},
   "outputs": [
    {
     "data": {
      "text/plain": [
       "'C:\\\\Users\\\\RS'"
      ]
     },
     "execution_count": 51,
     "metadata": {},
     "output_type": "execute_result"
    }
   ],
   "source": [
    "#Get work directory\n",
    "import os\n",
    "os.getcwd()"
   ]
  },
  {
   "cell_type": "code",
   "execution_count": 55,
   "metadata": {},
   "outputs": [],
   "source": [
    "#Read from work directory\n",
    "data = pd.read_csv('sample_data.csv')"
   ]
  },
  {
   "cell_type": "code",
   "execution_count": 56,
   "metadata": {},
   "outputs": [
    {
     "data": {
      "text/plain": [
       "<bound method NDFrame.head of          id sex is_employed    income marital_status  health_insurance  \\\n",
       "0      2068   F       False   11300.0        Married              True   \n",
       "1      2073   F       False       0.0        Married              True   \n",
       "2      2848   M        True   45000.0  Never Married             False   \n",
       "3      5641   M        True   20000.0  Never Married             False   \n",
       "4      6369   F        True   42000.0  Never Married              True   \n",
       "..      ...  ..         ...       ...            ...               ...   \n",
       "495  685994   F        True   21100.0        Married             False   \n",
       "496  688580   M        True   48000.0        Married              True   \n",
       "497  688736   F         NaN       0.0        Married              True   \n",
       "498  692445   M        True  140000.0        Married              True   \n",
       "499  693235   M        True   36200.0        Married              True   \n",
       "\n",
       "                     housing_type recent_move  num_vehicles   age state_of_res  \n",
       "0        Homeowner free and clear       False           2.0  49.0     Michigan  \n",
       "1                          Rented        True           3.0  40.0      Florida  \n",
       "2                          Rented        True           3.0  29.0      Georgia  \n",
       "3           Occupied with no rent       False           0.0  22.0   New Mexico  \n",
       "4                          Rented        True           1.0  31.0      Florida  \n",
       "..                            ...         ...           ...   ...          ...  \n",
       "495      Homeowner free and clear       False           2.0  63.0     Maryland  \n",
       "496                        Rented        True           2.0  22.0      Florida  \n",
       "497                        Rented       False           2.0  34.0         Iowa  \n",
       "498  Homeowner with mortgage/loan       False           5.0  48.0     Illinois  \n",
       "499      Homeowner free and clear       False           2.0  43.0     Michigan  \n",
       "\n",
       "[500 rows x 11 columns]>"
      ]
     },
     "execution_count": 56,
     "metadata": {},
     "output_type": "execute_result"
    }
   ],
   "source": [
    "data.head"
   ]
  },
  {
   "cell_type": "code",
   "execution_count": 60,
   "metadata": {},
   "outputs": [],
   "source": [
    "#Read from desktop\n",
    "data = pd.read_csv('C:\\\\Users\\\\RS\\\\Desktop\\\\sample_data.csv')"
   ]
  },
  {
   "cell_type": "code",
   "execution_count": 61,
   "metadata": {},
   "outputs": [
    {
     "data": {
      "text/plain": [
       "pandas.core.frame.DataFrame"
      ]
     },
     "execution_count": 61,
     "metadata": {},
     "output_type": "execute_result"
    }
   ],
   "source": [
    "type(data)"
   ]
  },
  {
   "cell_type": "code",
   "execution_count": 62,
   "metadata": {},
   "outputs": [
    {
     "data": {
      "text/html": [
       "<div>\n",
       "<style scoped>\n",
       "    .dataframe tbody tr th:only-of-type {\n",
       "        vertical-align: middle;\n",
       "    }\n",
       "\n",
       "    .dataframe tbody tr th {\n",
       "        vertical-align: top;\n",
       "    }\n",
       "\n",
       "    .dataframe thead th {\n",
       "        text-align: right;\n",
       "    }\n",
       "</style>\n",
       "<table border=\"1\" class=\"dataframe\">\n",
       "  <thead>\n",
       "    <tr style=\"text-align: right;\">\n",
       "      <th></th>\n",
       "      <th>id</th>\n",
       "      <th>sex</th>\n",
       "      <th>is_employed</th>\n",
       "      <th>income</th>\n",
       "      <th>marital_status</th>\n",
       "      <th>health_insurance</th>\n",
       "      <th>housing_type</th>\n",
       "      <th>recent_move</th>\n",
       "      <th>num_vehicles</th>\n",
       "      <th>age</th>\n",
       "      <th>state_of_res</th>\n",
       "    </tr>\n",
       "  </thead>\n",
       "  <tbody>\n",
       "    <tr>\n",
       "      <th>0</th>\n",
       "      <td>2068</td>\n",
       "      <td>F</td>\n",
       "      <td>False</td>\n",
       "      <td>11300.0</td>\n",
       "      <td>Married</td>\n",
       "      <td>True</td>\n",
       "      <td>Homeowner free and clear</td>\n",
       "      <td>False</td>\n",
       "      <td>2.0</td>\n",
       "      <td>49.0</td>\n",
       "      <td>Michigan</td>\n",
       "    </tr>\n",
       "    <tr>\n",
       "      <th>1</th>\n",
       "      <td>2073</td>\n",
       "      <td>F</td>\n",
       "      <td>False</td>\n",
       "      <td>0.0</td>\n",
       "      <td>Married</td>\n",
       "      <td>True</td>\n",
       "      <td>Rented</td>\n",
       "      <td>True</td>\n",
       "      <td>3.0</td>\n",
       "      <td>40.0</td>\n",
       "      <td>Florida</td>\n",
       "    </tr>\n",
       "    <tr>\n",
       "      <th>2</th>\n",
       "      <td>2848</td>\n",
       "      <td>M</td>\n",
       "      <td>True</td>\n",
       "      <td>45000.0</td>\n",
       "      <td>Never Married</td>\n",
       "      <td>False</td>\n",
       "      <td>Rented</td>\n",
       "      <td>True</td>\n",
       "      <td>3.0</td>\n",
       "      <td>29.0</td>\n",
       "      <td>Georgia</td>\n",
       "    </tr>\n",
       "    <tr>\n",
       "      <th>3</th>\n",
       "      <td>5641</td>\n",
       "      <td>M</td>\n",
       "      <td>True</td>\n",
       "      <td>20000.0</td>\n",
       "      <td>Never Married</td>\n",
       "      <td>False</td>\n",
       "      <td>Occupied with no rent</td>\n",
       "      <td>False</td>\n",
       "      <td>0.0</td>\n",
       "      <td>22.0</td>\n",
       "      <td>New Mexico</td>\n",
       "    </tr>\n",
       "    <tr>\n",
       "      <th>4</th>\n",
       "      <td>6369</td>\n",
       "      <td>F</td>\n",
       "      <td>True</td>\n",
       "      <td>42000.0</td>\n",
       "      <td>Never Married</td>\n",
       "      <td>True</td>\n",
       "      <td>Rented</td>\n",
       "      <td>True</td>\n",
       "      <td>1.0</td>\n",
       "      <td>31.0</td>\n",
       "      <td>Florida</td>\n",
       "    </tr>\n",
       "    <tr>\n",
       "      <th>...</th>\n",
       "      <td>...</td>\n",
       "      <td>...</td>\n",
       "      <td>...</td>\n",
       "      <td>...</td>\n",
       "      <td>...</td>\n",
       "      <td>...</td>\n",
       "      <td>...</td>\n",
       "      <td>...</td>\n",
       "      <td>...</td>\n",
       "      <td>...</td>\n",
       "      <td>...</td>\n",
       "    </tr>\n",
       "    <tr>\n",
       "      <th>495</th>\n",
       "      <td>685994</td>\n",
       "      <td>F</td>\n",
       "      <td>True</td>\n",
       "      <td>21100.0</td>\n",
       "      <td>Married</td>\n",
       "      <td>False</td>\n",
       "      <td>Homeowner free and clear</td>\n",
       "      <td>False</td>\n",
       "      <td>2.0</td>\n",
       "      <td>63.0</td>\n",
       "      <td>Maryland</td>\n",
       "    </tr>\n",
       "    <tr>\n",
       "      <th>496</th>\n",
       "      <td>688580</td>\n",
       "      <td>M</td>\n",
       "      <td>True</td>\n",
       "      <td>48000.0</td>\n",
       "      <td>Married</td>\n",
       "      <td>True</td>\n",
       "      <td>Rented</td>\n",
       "      <td>True</td>\n",
       "      <td>2.0</td>\n",
       "      <td>22.0</td>\n",
       "      <td>Florida</td>\n",
       "    </tr>\n",
       "    <tr>\n",
       "      <th>497</th>\n",
       "      <td>688736</td>\n",
       "      <td>F</td>\n",
       "      <td>NaN</td>\n",
       "      <td>0.0</td>\n",
       "      <td>Married</td>\n",
       "      <td>True</td>\n",
       "      <td>Rented</td>\n",
       "      <td>False</td>\n",
       "      <td>2.0</td>\n",
       "      <td>34.0</td>\n",
       "      <td>Iowa</td>\n",
       "    </tr>\n",
       "    <tr>\n",
       "      <th>498</th>\n",
       "      <td>692445</td>\n",
       "      <td>M</td>\n",
       "      <td>True</td>\n",
       "      <td>140000.0</td>\n",
       "      <td>Married</td>\n",
       "      <td>True</td>\n",
       "      <td>Homeowner with mortgage/loan</td>\n",
       "      <td>False</td>\n",
       "      <td>5.0</td>\n",
       "      <td>48.0</td>\n",
       "      <td>Illinois</td>\n",
       "    </tr>\n",
       "    <tr>\n",
       "      <th>499</th>\n",
       "      <td>693235</td>\n",
       "      <td>M</td>\n",
       "      <td>True</td>\n",
       "      <td>36200.0</td>\n",
       "      <td>Married</td>\n",
       "      <td>True</td>\n",
       "      <td>Homeowner free and clear</td>\n",
       "      <td>False</td>\n",
       "      <td>2.0</td>\n",
       "      <td>43.0</td>\n",
       "      <td>Michigan</td>\n",
       "    </tr>\n",
       "  </tbody>\n",
       "</table>\n",
       "<p>500 rows × 11 columns</p>\n",
       "</div>"
      ],
      "text/plain": [
       "         id sex is_employed    income marital_status  health_insurance  \\\n",
       "0      2068   F       False   11300.0        Married              True   \n",
       "1      2073   F       False       0.0        Married              True   \n",
       "2      2848   M        True   45000.0  Never Married             False   \n",
       "3      5641   M        True   20000.0  Never Married             False   \n",
       "4      6369   F        True   42000.0  Never Married              True   \n",
       "..      ...  ..         ...       ...            ...               ...   \n",
       "495  685994   F        True   21100.0        Married             False   \n",
       "496  688580   M        True   48000.0        Married              True   \n",
       "497  688736   F         NaN       0.0        Married              True   \n",
       "498  692445   M        True  140000.0        Married              True   \n",
       "499  693235   M        True   36200.0        Married              True   \n",
       "\n",
       "                     housing_type recent_move  num_vehicles   age state_of_res  \n",
       "0        Homeowner free and clear       False           2.0  49.0     Michigan  \n",
       "1                          Rented        True           3.0  40.0      Florida  \n",
       "2                          Rented        True           3.0  29.0      Georgia  \n",
       "3           Occupied with no rent       False           0.0  22.0   New Mexico  \n",
       "4                          Rented        True           1.0  31.0      Florida  \n",
       "..                            ...         ...           ...   ...          ...  \n",
       "495      Homeowner free and clear       False           2.0  63.0     Maryland  \n",
       "496                        Rented        True           2.0  22.0      Florida  \n",
       "497                        Rented       False           2.0  34.0         Iowa  \n",
       "498  Homeowner with mortgage/loan       False           5.0  48.0     Illinois  \n",
       "499      Homeowner free and clear       False           2.0  43.0     Michigan  \n",
       "\n",
       "[500 rows x 11 columns]"
      ]
     },
     "execution_count": 62,
     "metadata": {},
     "output_type": "execute_result"
    }
   ],
   "source": [
    "data"
   ]
  },
  {
   "cell_type": "markdown",
   "metadata": {},
   "source": [
    "### Example: CRM database"
   ]
  },
  {
   "cell_type": "code",
   "execution_count": 63,
   "metadata": {},
   "outputs": [
    {
     "data": {
      "text/html": [
       "<div>\n",
       "<style scoped>\n",
       "    .dataframe tbody tr th:only-of-type {\n",
       "        vertical-align: middle;\n",
       "    }\n",
       "\n",
       "    .dataframe tbody tr th {\n",
       "        vertical-align: top;\n",
       "    }\n",
       "\n",
       "    .dataframe thead th {\n",
       "        text-align: right;\n",
       "    }\n",
       "</style>\n",
       "<table border=\"1\" class=\"dataframe\">\n",
       "  <thead>\n",
       "    <tr style=\"text-align: right;\">\n",
       "      <th></th>\n",
       "      <th>id</th>\n",
       "      <th>sex</th>\n",
       "      <th>is_employed</th>\n",
       "      <th>income</th>\n",
       "      <th>marital_status</th>\n",
       "      <th>health_insurance</th>\n",
       "      <th>housing_type</th>\n",
       "      <th>recent_move</th>\n",
       "      <th>num_vehicles</th>\n",
       "      <th>age</th>\n",
       "      <th>state_of_res</th>\n",
       "    </tr>\n",
       "  </thead>\n",
       "  <tbody>\n",
       "    <tr>\n",
       "      <th>0</th>\n",
       "      <td>2068</td>\n",
       "      <td>F</td>\n",
       "      <td>False</td>\n",
       "      <td>11300.0</td>\n",
       "      <td>Married</td>\n",
       "      <td>True</td>\n",
       "      <td>Homeowner free and clear</td>\n",
       "      <td>False</td>\n",
       "      <td>2.0</td>\n",
       "      <td>49.0</td>\n",
       "      <td>Michigan</td>\n",
       "    </tr>\n",
       "    <tr>\n",
       "      <th>1</th>\n",
       "      <td>2073</td>\n",
       "      <td>F</td>\n",
       "      <td>False</td>\n",
       "      <td>0.0</td>\n",
       "      <td>Married</td>\n",
       "      <td>True</td>\n",
       "      <td>Rented</td>\n",
       "      <td>True</td>\n",
       "      <td>3.0</td>\n",
       "      <td>40.0</td>\n",
       "      <td>Florida</td>\n",
       "    </tr>\n",
       "    <tr>\n",
       "      <th>2</th>\n",
       "      <td>2848</td>\n",
       "      <td>M</td>\n",
       "      <td>True</td>\n",
       "      <td>45000.0</td>\n",
       "      <td>Never Married</td>\n",
       "      <td>False</td>\n",
       "      <td>Rented</td>\n",
       "      <td>True</td>\n",
       "      <td>3.0</td>\n",
       "      <td>29.0</td>\n",
       "      <td>Georgia</td>\n",
       "    </tr>\n",
       "    <tr>\n",
       "      <th>3</th>\n",
       "      <td>5641</td>\n",
       "      <td>M</td>\n",
       "      <td>True</td>\n",
       "      <td>20000.0</td>\n",
       "      <td>Never Married</td>\n",
       "      <td>False</td>\n",
       "      <td>Occupied with no rent</td>\n",
       "      <td>False</td>\n",
       "      <td>0.0</td>\n",
       "      <td>22.0</td>\n",
       "      <td>New Mexico</td>\n",
       "    </tr>\n",
       "    <tr>\n",
       "      <th>4</th>\n",
       "      <td>6369</td>\n",
       "      <td>F</td>\n",
       "      <td>True</td>\n",
       "      <td>42000.0</td>\n",
       "      <td>Never Married</td>\n",
       "      <td>True</td>\n",
       "      <td>Rented</td>\n",
       "      <td>True</td>\n",
       "      <td>1.0</td>\n",
       "      <td>31.0</td>\n",
       "      <td>Florida</td>\n",
       "    </tr>\n",
       "  </tbody>\n",
       "</table>\n",
       "</div>"
      ],
      "text/plain": [
       "     id sex is_employed   income marital_status  health_insurance  \\\n",
       "0  2068   F       False  11300.0        Married              True   \n",
       "1  2073   F       False      0.0        Married              True   \n",
       "2  2848   M        True  45000.0  Never Married             False   \n",
       "3  5641   M        True  20000.0  Never Married             False   \n",
       "4  6369   F        True  42000.0  Never Married              True   \n",
       "\n",
       "               housing_type recent_move  num_vehicles   age state_of_res  \n",
       "0  Homeowner free and clear       False           2.0  49.0     Michigan  \n",
       "1                    Rented        True           3.0  40.0      Florida  \n",
       "2                    Rented        True           3.0  29.0      Georgia  \n",
       "3     Occupied with no rent       False           0.0  22.0   New Mexico  \n",
       "4                    Rented        True           1.0  31.0      Florida  "
      ]
     },
     "execution_count": 63,
     "metadata": {},
     "output_type": "execute_result"
    }
   ],
   "source": [
    "data.head()"
   ]
  },
  {
   "cell_type": "code",
   "execution_count": 64,
   "metadata": {},
   "outputs": [
    {
     "data": {
      "text/html": [
       "<div>\n",
       "<style scoped>\n",
       "    .dataframe tbody tr th:only-of-type {\n",
       "        vertical-align: middle;\n",
       "    }\n",
       "\n",
       "    .dataframe tbody tr th {\n",
       "        vertical-align: top;\n",
       "    }\n",
       "\n",
       "    .dataframe thead th {\n",
       "        text-align: right;\n",
       "    }\n",
       "</style>\n",
       "<table border=\"1\" class=\"dataframe\">\n",
       "  <thead>\n",
       "    <tr style=\"text-align: right;\">\n",
       "      <th></th>\n",
       "      <th>id</th>\n",
       "      <th>sex</th>\n",
       "      <th>is_employed</th>\n",
       "      <th>income</th>\n",
       "      <th>marital_status</th>\n",
       "      <th>health_insurance</th>\n",
       "      <th>housing_type</th>\n",
       "      <th>recent_move</th>\n",
       "      <th>num_vehicles</th>\n",
       "      <th>age</th>\n",
       "      <th>state_of_res</th>\n",
       "    </tr>\n",
       "  </thead>\n",
       "  <tbody>\n",
       "    <tr>\n",
       "      <th>495</th>\n",
       "      <td>685994</td>\n",
       "      <td>F</td>\n",
       "      <td>True</td>\n",
       "      <td>21100.0</td>\n",
       "      <td>Married</td>\n",
       "      <td>False</td>\n",
       "      <td>Homeowner free and clear</td>\n",
       "      <td>False</td>\n",
       "      <td>2.0</td>\n",
       "      <td>63.0</td>\n",
       "      <td>Maryland</td>\n",
       "    </tr>\n",
       "    <tr>\n",
       "      <th>496</th>\n",
       "      <td>688580</td>\n",
       "      <td>M</td>\n",
       "      <td>True</td>\n",
       "      <td>48000.0</td>\n",
       "      <td>Married</td>\n",
       "      <td>True</td>\n",
       "      <td>Rented</td>\n",
       "      <td>True</td>\n",
       "      <td>2.0</td>\n",
       "      <td>22.0</td>\n",
       "      <td>Florida</td>\n",
       "    </tr>\n",
       "    <tr>\n",
       "      <th>497</th>\n",
       "      <td>688736</td>\n",
       "      <td>F</td>\n",
       "      <td>NaN</td>\n",
       "      <td>0.0</td>\n",
       "      <td>Married</td>\n",
       "      <td>True</td>\n",
       "      <td>Rented</td>\n",
       "      <td>False</td>\n",
       "      <td>2.0</td>\n",
       "      <td>34.0</td>\n",
       "      <td>Iowa</td>\n",
       "    </tr>\n",
       "    <tr>\n",
       "      <th>498</th>\n",
       "      <td>692445</td>\n",
       "      <td>M</td>\n",
       "      <td>True</td>\n",
       "      <td>140000.0</td>\n",
       "      <td>Married</td>\n",
       "      <td>True</td>\n",
       "      <td>Homeowner with mortgage/loan</td>\n",
       "      <td>False</td>\n",
       "      <td>5.0</td>\n",
       "      <td>48.0</td>\n",
       "      <td>Illinois</td>\n",
       "    </tr>\n",
       "    <tr>\n",
       "      <th>499</th>\n",
       "      <td>693235</td>\n",
       "      <td>M</td>\n",
       "      <td>True</td>\n",
       "      <td>36200.0</td>\n",
       "      <td>Married</td>\n",
       "      <td>True</td>\n",
       "      <td>Homeowner free and clear</td>\n",
       "      <td>False</td>\n",
       "      <td>2.0</td>\n",
       "      <td>43.0</td>\n",
       "      <td>Michigan</td>\n",
       "    </tr>\n",
       "  </tbody>\n",
       "</table>\n",
       "</div>"
      ],
      "text/plain": [
       "         id sex is_employed    income marital_status  health_insurance  \\\n",
       "495  685994   F        True   21100.0        Married             False   \n",
       "496  688580   M        True   48000.0        Married              True   \n",
       "497  688736   F         NaN       0.0        Married              True   \n",
       "498  692445   M        True  140000.0        Married              True   \n",
       "499  693235   M        True   36200.0        Married              True   \n",
       "\n",
       "                     housing_type recent_move  num_vehicles   age state_of_res  \n",
       "495      Homeowner free and clear       False           2.0  63.0     Maryland  \n",
       "496                        Rented        True           2.0  22.0      Florida  \n",
       "497                        Rented       False           2.0  34.0         Iowa  \n",
       "498  Homeowner with mortgage/loan       False           5.0  48.0     Illinois  \n",
       "499      Homeowner free and clear       False           2.0  43.0     Michigan  "
      ]
     },
     "execution_count": 64,
     "metadata": {},
     "output_type": "execute_result"
    }
   ],
   "source": [
    "data.tail()"
   ]
  },
  {
   "cell_type": "code",
   "execution_count": 65,
   "metadata": {},
   "outputs": [
    {
     "data": {
      "text/plain": [
       "(500, 11)"
      ]
     },
     "execution_count": 65,
     "metadata": {},
     "output_type": "execute_result"
    }
   ],
   "source": [
    "data.shape"
   ]
  },
  {
   "cell_type": "code",
   "execution_count": 66,
   "metadata": {},
   "outputs": [
    {
     "name": "stdout",
     "output_type": "stream",
     "text": [
      "<class 'pandas.core.frame.DataFrame'>\n",
      "RangeIndex: 500 entries, 0 to 499\n",
      "Data columns (total 11 columns):\n",
      " #   Column            Non-Null Count  Dtype  \n",
      "---  ------            --------------  -----  \n",
      " 0   id                500 non-null    int64  \n",
      " 1   sex               500 non-null    object \n",
      " 2   is_employed       435 non-null    object \n",
      " 3   income            493 non-null    float64\n",
      " 4   marital_status    500 non-null    object \n",
      " 5   health_insurance  500 non-null    bool   \n",
      " 6   housing_type      466 non-null    object \n",
      " 7   recent_move       466 non-null    object \n",
      " 8   num_vehicles      466 non-null    float64\n",
      " 9   age               500 non-null    float64\n",
      " 10  state_of_res      500 non-null    object \n",
      "dtypes: bool(1), float64(3), int64(1), object(6)\n",
      "memory usage: 39.7+ KB\n"
     ]
    }
   ],
   "source": [
    "data.info()"
   ]
  },
  {
   "cell_type": "code",
   "execution_count": 67,
   "metadata": {},
   "outputs": [
    {
     "data": {
      "text/html": [
       "<div>\n",
       "<style scoped>\n",
       "    .dataframe tbody tr th:only-of-type {\n",
       "        vertical-align: middle;\n",
       "    }\n",
       "\n",
       "    .dataframe tbody tr th {\n",
       "        vertical-align: top;\n",
       "    }\n",
       "\n",
       "    .dataframe thead th {\n",
       "        text-align: right;\n",
       "    }\n",
       "</style>\n",
       "<table border=\"1\" class=\"dataframe\">\n",
       "  <thead>\n",
       "    <tr style=\"text-align: right;\">\n",
       "      <th></th>\n",
       "      <th>id</th>\n",
       "      <th>income</th>\n",
       "      <th>num_vehicles</th>\n",
       "      <th>age</th>\n",
       "    </tr>\n",
       "  </thead>\n",
       "  <tbody>\n",
       "    <tr>\n",
       "      <th>count</th>\n",
       "      <td>500.000000</td>\n",
       "      <td>493.000000</td>\n",
       "      <td>466.000000</td>\n",
       "      <td>500.000000</td>\n",
       "    </tr>\n",
       "    <tr>\n",
       "      <th>mean</th>\n",
       "      <td>339421.530000</td>\n",
       "      <td>53899.584178</td>\n",
       "      <td>1.845494</td>\n",
       "      <td>51.919626</td>\n",
       "    </tr>\n",
       "    <tr>\n",
       "      <th>std</th>\n",
       "      <td>203464.742214</td>\n",
       "      <td>64585.040596</td>\n",
       "      <td>1.031624</td>\n",
       "      <td>18.374129</td>\n",
       "    </tr>\n",
       "    <tr>\n",
       "      <th>min</th>\n",
       "      <td>2068.000000</td>\n",
       "      <td>0.000000</td>\n",
       "      <td>0.000000</td>\n",
       "      <td>18.000000</td>\n",
       "    </tr>\n",
       "    <tr>\n",
       "      <th>25%</th>\n",
       "      <td>153033.250000</td>\n",
       "      <td>15500.000000</td>\n",
       "      <td>1.000000</td>\n",
       "      <td>38.000000</td>\n",
       "    </tr>\n",
       "    <tr>\n",
       "      <th>50%</th>\n",
       "      <td>345339.500000</td>\n",
       "      <td>34300.000000</td>\n",
       "      <td>2.000000</td>\n",
       "      <td>49.000000</td>\n",
       "    </tr>\n",
       "    <tr>\n",
       "      <th>75%</th>\n",
       "      <td>513477.750000</td>\n",
       "      <td>70000.000000</td>\n",
       "      <td>2.000000</td>\n",
       "      <td>64.000000</td>\n",
       "    </tr>\n",
       "    <tr>\n",
       "      <th>max</th>\n",
       "      <td>693235.000000</td>\n",
       "      <td>412000.000000</td>\n",
       "      <td>6.000000</td>\n",
       "      <td>137.700030</td>\n",
       "    </tr>\n",
       "  </tbody>\n",
       "</table>\n",
       "</div>"
      ],
      "text/plain": [
       "                  id         income  num_vehicles         age\n",
       "count     500.000000     493.000000    466.000000  500.000000\n",
       "mean   339421.530000   53899.584178      1.845494   51.919626\n",
       "std    203464.742214   64585.040596      1.031624   18.374129\n",
       "min      2068.000000       0.000000      0.000000   18.000000\n",
       "25%    153033.250000   15500.000000      1.000000   38.000000\n",
       "50%    345339.500000   34300.000000      2.000000   49.000000\n",
       "75%    513477.750000   70000.000000      2.000000   64.000000\n",
       "max    693235.000000  412000.000000      6.000000  137.700030"
      ]
     },
     "execution_count": 67,
     "metadata": {},
     "output_type": "execute_result"
    }
   ],
   "source": [
    "#Descriptive statistics\n",
    "data.describe()"
   ]
  },
  {
   "cell_type": "code",
   "execution_count": 68,
   "metadata": {},
   "outputs": [
    {
     "data": {
      "text/html": [
       "<div>\n",
       "<style scoped>\n",
       "    .dataframe tbody tr th:only-of-type {\n",
       "        vertical-align: middle;\n",
       "    }\n",
       "\n",
       "    .dataframe tbody tr th {\n",
       "        vertical-align: top;\n",
       "    }\n",
       "\n",
       "    .dataframe thead th {\n",
       "        text-align: right;\n",
       "    }\n",
       "</style>\n",
       "<table border=\"1\" class=\"dataframe\">\n",
       "  <thead>\n",
       "    <tr style=\"text-align: right;\">\n",
       "      <th></th>\n",
       "      <th>id</th>\n",
       "      <th>sex</th>\n",
       "      <th>is_employed</th>\n",
       "      <th>income</th>\n",
       "      <th>marital_status</th>\n",
       "      <th>health_insurance</th>\n",
       "      <th>housing_type</th>\n",
       "      <th>recent_move</th>\n",
       "      <th>num_vehicles</th>\n",
       "      <th>age</th>\n",
       "      <th>state_of_res</th>\n",
       "    </tr>\n",
       "  </thead>\n",
       "  <tbody>\n",
       "    <tr>\n",
       "      <th>0</th>\n",
       "      <td>False</td>\n",
       "      <td>False</td>\n",
       "      <td>False</td>\n",
       "      <td>False</td>\n",
       "      <td>False</td>\n",
       "      <td>False</td>\n",
       "      <td>False</td>\n",
       "      <td>False</td>\n",
       "      <td>False</td>\n",
       "      <td>False</td>\n",
       "      <td>False</td>\n",
       "    </tr>\n",
       "    <tr>\n",
       "      <th>1</th>\n",
       "      <td>False</td>\n",
       "      <td>False</td>\n",
       "      <td>False</td>\n",
       "      <td>False</td>\n",
       "      <td>False</td>\n",
       "      <td>False</td>\n",
       "      <td>False</td>\n",
       "      <td>False</td>\n",
       "      <td>False</td>\n",
       "      <td>False</td>\n",
       "      <td>False</td>\n",
       "    </tr>\n",
       "    <tr>\n",
       "      <th>2</th>\n",
       "      <td>False</td>\n",
       "      <td>False</td>\n",
       "      <td>False</td>\n",
       "      <td>False</td>\n",
       "      <td>False</td>\n",
       "      <td>False</td>\n",
       "      <td>False</td>\n",
       "      <td>False</td>\n",
       "      <td>False</td>\n",
       "      <td>False</td>\n",
       "      <td>False</td>\n",
       "    </tr>\n",
       "    <tr>\n",
       "      <th>3</th>\n",
       "      <td>False</td>\n",
       "      <td>False</td>\n",
       "      <td>False</td>\n",
       "      <td>False</td>\n",
       "      <td>False</td>\n",
       "      <td>False</td>\n",
       "      <td>False</td>\n",
       "      <td>False</td>\n",
       "      <td>False</td>\n",
       "      <td>False</td>\n",
       "      <td>False</td>\n",
       "    </tr>\n",
       "    <tr>\n",
       "      <th>4</th>\n",
       "      <td>False</td>\n",
       "      <td>False</td>\n",
       "      <td>False</td>\n",
       "      <td>False</td>\n",
       "      <td>False</td>\n",
       "      <td>False</td>\n",
       "      <td>False</td>\n",
       "      <td>False</td>\n",
       "      <td>False</td>\n",
       "      <td>False</td>\n",
       "      <td>False</td>\n",
       "    </tr>\n",
       "    <tr>\n",
       "      <th>...</th>\n",
       "      <td>...</td>\n",
       "      <td>...</td>\n",
       "      <td>...</td>\n",
       "      <td>...</td>\n",
       "      <td>...</td>\n",
       "      <td>...</td>\n",
       "      <td>...</td>\n",
       "      <td>...</td>\n",
       "      <td>...</td>\n",
       "      <td>...</td>\n",
       "      <td>...</td>\n",
       "    </tr>\n",
       "    <tr>\n",
       "      <th>495</th>\n",
       "      <td>False</td>\n",
       "      <td>False</td>\n",
       "      <td>False</td>\n",
       "      <td>False</td>\n",
       "      <td>False</td>\n",
       "      <td>False</td>\n",
       "      <td>False</td>\n",
       "      <td>False</td>\n",
       "      <td>False</td>\n",
       "      <td>False</td>\n",
       "      <td>False</td>\n",
       "    </tr>\n",
       "    <tr>\n",
       "      <th>496</th>\n",
       "      <td>False</td>\n",
       "      <td>False</td>\n",
       "      <td>False</td>\n",
       "      <td>False</td>\n",
       "      <td>False</td>\n",
       "      <td>False</td>\n",
       "      <td>False</td>\n",
       "      <td>False</td>\n",
       "      <td>False</td>\n",
       "      <td>False</td>\n",
       "      <td>False</td>\n",
       "    </tr>\n",
       "    <tr>\n",
       "      <th>497</th>\n",
       "      <td>False</td>\n",
       "      <td>False</td>\n",
       "      <td>True</td>\n",
       "      <td>False</td>\n",
       "      <td>False</td>\n",
       "      <td>False</td>\n",
       "      <td>False</td>\n",
       "      <td>False</td>\n",
       "      <td>False</td>\n",
       "      <td>False</td>\n",
       "      <td>False</td>\n",
       "    </tr>\n",
       "    <tr>\n",
       "      <th>498</th>\n",
       "      <td>False</td>\n",
       "      <td>False</td>\n",
       "      <td>False</td>\n",
       "      <td>False</td>\n",
       "      <td>False</td>\n",
       "      <td>False</td>\n",
       "      <td>False</td>\n",
       "      <td>False</td>\n",
       "      <td>False</td>\n",
       "      <td>False</td>\n",
       "      <td>False</td>\n",
       "    </tr>\n",
       "    <tr>\n",
       "      <th>499</th>\n",
       "      <td>False</td>\n",
       "      <td>False</td>\n",
       "      <td>False</td>\n",
       "      <td>False</td>\n",
       "      <td>False</td>\n",
       "      <td>False</td>\n",
       "      <td>False</td>\n",
       "      <td>False</td>\n",
       "      <td>False</td>\n",
       "      <td>False</td>\n",
       "      <td>False</td>\n",
       "    </tr>\n",
       "  </tbody>\n",
       "</table>\n",
       "<p>500 rows × 11 columns</p>\n",
       "</div>"
      ],
      "text/plain": [
       "        id    sex  is_employed  income  marital_status  health_insurance  \\\n",
       "0    False  False        False   False           False             False   \n",
       "1    False  False        False   False           False             False   \n",
       "2    False  False        False   False           False             False   \n",
       "3    False  False        False   False           False             False   \n",
       "4    False  False        False   False           False             False   \n",
       "..     ...    ...          ...     ...             ...               ...   \n",
       "495  False  False        False   False           False             False   \n",
       "496  False  False        False   False           False             False   \n",
       "497  False  False         True   False           False             False   \n",
       "498  False  False        False   False           False             False   \n",
       "499  False  False        False   False           False             False   \n",
       "\n",
       "     housing_type  recent_move  num_vehicles    age  state_of_res  \n",
       "0           False        False         False  False         False  \n",
       "1           False        False         False  False         False  \n",
       "2           False        False         False  False         False  \n",
       "3           False        False         False  False         False  \n",
       "4           False        False         False  False         False  \n",
       "..            ...          ...           ...    ...           ...  \n",
       "495         False        False         False  False         False  \n",
       "496         False        False         False  False         False  \n",
       "497         False        False         False  False         False  \n",
       "498         False        False         False  False         False  \n",
       "499         False        False         False  False         False  \n",
       "\n",
       "[500 rows x 11 columns]"
      ]
     },
     "execution_count": 68,
     "metadata": {},
     "output_type": "execute_result"
    }
   ],
   "source": [
    "#Missing values?\n",
    "data.isnull()"
   ]
  },
  {
   "cell_type": "code",
   "execution_count": 69,
   "metadata": {},
   "outputs": [
    {
     "data": {
      "text/plain": [
       "id                   0\n",
       "sex                  0\n",
       "is_employed         65\n",
       "income               7\n",
       "marital_status       0\n",
       "health_insurance     0\n",
       "housing_type        34\n",
       "recent_move         34\n",
       "num_vehicles        34\n",
       "age                  0\n",
       "state_of_res         0\n",
       "dtype: int64"
      ]
     },
     "execution_count": 69,
     "metadata": {},
     "output_type": "execute_result"
    }
   ],
   "source": [
    "#Missing values?\n",
    "np.sum(data.isnull())"
   ]
  },
  {
   "cell_type": "code",
   "execution_count": 70,
   "metadata": {},
   "outputs": [
    {
     "data": {
      "text/plain": [
       "array([  2068,   2073,   2848,   5641,   6369,   8322,   8521,  12195,\n",
       "        14989,  15917,  16551,  17134,  17946,  18487,  20383,  22295,\n",
       "        25863,  26057,  26355,  27214,  27445,  27761,  27928,  30768,\n",
       "        31710,  33651,  33828,  36825,  37224,  38827,  40132,  40449,\n",
       "        42374,  46099,  46791,  47009,  48479,  49496,  50220,  51723,\n",
       "        52197,  52382,  52420,  52436,  53186,  53214,  53759,  54177,\n",
       "        55873,  55992,  56040,  62999,  65004,  66778,  67776,  68013,\n",
       "        68221,  69062,  72741,  74447,  76182,  77312,  78476,  79069,\n",
       "        80274,  80549,  82503,  84636,  84879,  85398,  86711,  86786,\n",
       "        90303,  90863,  92706,  94743,  96964,  97247,  98086,  99068,\n",
       "       100475, 102269, 103389, 104048, 104506, 106395, 106726, 106956,\n",
       "       107458, 108042, 110024, 110699, 111870, 112116, 113390, 114806,\n",
       "       115100, 116171, 116481, 117491, 117900, 117911, 118561, 120705,\n",
       "       122231, 124968, 125155, 126507, 127965, 131301, 133268, 136206,\n",
       "       138865, 139771, 141492, 145172, 146457, 147984, 149429, 149480,\n",
       "       150055, 150721, 151170, 151678, 151876, 153419, 155762, 156520,\n",
       "       158530, 159107, 159573, 164576, 166246, 167154, 167498, 169519,\n",
       "       173493, 174248, 175033, 175572, 177122, 177145, 178178, 178887,\n",
       "       179481, 180009, 181385, 181754, 182072, 182146, 183889, 184170,\n",
       "       184506, 184686, 186475, 186808, 191018, 191536, 194740, 195539,\n",
       "       196613, 196828, 199788, 203816, 204591, 206122, 209604, 210241,\n",
       "       210427, 211330, 211424, 213854, 214083, 215876, 217315, 218283,\n",
       "       220135, 220142, 220205, 223271, 223773, 224356, 226840, 227318,\n",
       "       228513, 236067, 236880, 237048, 249492, 250108, 251365, 252100,\n",
       "       253015, 254969, 258722, 258948, 259807, 262234, 264292, 265299,\n",
       "       268667, 269836, 272748, 274182, 276306, 277784, 278995, 279538,\n",
       "       281529, 283521, 283607, 284973, 287882, 291564, 291599, 291608,\n",
       "       297117, 298205, 298782, 303624, 304200, 307655, 308107, 310588,\n",
       "       311095, 314099, 315265, 316205, 316280, 316753, 317166, 318105,\n",
       "       318348, 319774, 323508, 324029, 330543, 331868, 332292, 333355,\n",
       "       333982, 334135, 335080, 335174, 337683, 338635, 341507, 342460,\n",
       "       343235, 344685, 345994, 348319, 349344, 351129, 352275, 354269,\n",
       "       356073, 356688, 356763, 359997, 360674, 361561, 361946, 361968,\n",
       "       363008, 364328, 364991, 368645, 373976, 374461, 374930, 376508,\n",
       "       382338, 382614, 382908, 383409, 383455, 385318, 388567, 390273,\n",
       "       394696, 394790, 395888, 396116, 396256, 396675, 397230, 399150,\n",
       "       399930, 403690, 406984, 408221, 409728, 411385, 415060, 415381,\n",
       "       415575, 415741, 416144, 416624, 419751, 419951, 421248, 421666,\n",
       "       423279, 423910, 426154, 427431, 427589, 430516, 431729, 432526,\n",
       "       433755, 435651, 438304, 439284, 440475, 441221, 442608, 445622,\n",
       "       445937, 445985, 449907, 450221, 450776, 456859, 458094, 458212,\n",
       "       458265, 459429, 459910, 459959, 460642, 460925, 461021, 461429,\n",
       "       462569, 463808, 464082, 465818, 467335, 468344, 468553, 474507,\n",
       "       478228, 478502, 479327, 482611, 487124, 487369, 487556, 489718,\n",
       "       491280, 491389, 491848, 492072, 492789, 496465, 497970, 498048,\n",
       "       499492, 499637, 499807, 501259, 502705, 502764, 503412, 504889,\n",
       "       505318, 506042, 509386, 510349, 510555, 511732, 512594, 516129,\n",
       "       517253, 517696, 518076, 518899, 519446, 520030, 520390, 523769,\n",
       "       523990, 525942, 527928, 528994, 532940, 532971, 535114, 536463,\n",
       "       536879, 537484, 540956, 542384, 543309, 545826, 546208, 547258,\n",
       "       548303, 549068, 550733, 551584, 556935, 559163, 559955, 560007,\n",
       "       560783, 561588, 562962, 565628, 565740, 568892, 569414, 571834,\n",
       "       572341, 573573, 575660, 576799, 578596, 580304, 581657, 583093,\n",
       "       583249, 583934, 584570, 588705, 588711, 589826, 591244, 592496,\n",
       "       595225, 595796, 595944, 596523, 597817, 598008, 601247, 601778,\n",
       "       603304, 604216, 604839, 605624, 606108, 606307, 607766, 608789,\n",
       "       609449, 612775, 612779, 613391, 616498, 618036, 618059, 618500,\n",
       "       620116, 620452, 622713, 624593, 628305, 634710, 635515, 635574,\n",
       "       638458, 638760, 642727, 643754, 645268, 646061, 646808, 647206,\n",
       "       648220, 649827, 650803, 650961, 655940, 661353, 665669, 667156,\n",
       "       668199, 668750, 668777, 673010, 674271, 679084, 679364, 680475,\n",
       "       680503, 682848, 683320, 683867, 684640, 684701, 685624, 685994,\n",
       "       688580, 688736, 692445, 693235], dtype=int64)"
      ]
     },
     "execution_count": 70,
     "metadata": {},
     "output_type": "execute_result"
    }
   ],
   "source": [
    "#Id\n",
    "data['id'].unique()"
   ]
  },
  {
   "cell_type": "code",
   "execution_count": 71,
   "metadata": {},
   "outputs": [
    {
     "data": {
      "text/plain": [
       "500"
      ]
     },
     "execution_count": 71,
     "metadata": {},
     "output_type": "execute_result"
    }
   ],
   "source": [
    "data['id'].nunique()"
   ]
  },
  {
   "cell_type": "code",
   "execution_count": 72,
   "metadata": {},
   "outputs": [
    {
     "data": {
      "text/plain": [
       "M    274\n",
       "F    226\n",
       "Name: sex, dtype: int64"
      ]
     },
     "execution_count": 72,
     "metadata": {},
     "output_type": "execute_result"
    }
   ],
   "source": [
    "#Sex\n",
    "data['sex'].value_counts()"
   ]
  },
  {
   "cell_type": "code",
   "execution_count": 73,
   "metadata": {},
   "outputs": [
    {
     "data": {
      "text/plain": [
       "0"
      ]
     },
     "execution_count": 73,
     "metadata": {},
     "output_type": "execute_result"
    }
   ],
   "source": [
    "#Missing values?\n",
    "np.sum(data['sex'].isnull())"
   ]
  },
  {
   "cell_type": "code",
   "execution_count": 74,
   "metadata": {},
   "outputs": [
    {
     "data": {
      "text/html": [
       "<div>\n",
       "<style scoped>\n",
       "    .dataframe tbody tr th:only-of-type {\n",
       "        vertical-align: middle;\n",
       "    }\n",
       "\n",
       "    .dataframe tbody tr th {\n",
       "        vertical-align: top;\n",
       "    }\n",
       "\n",
       "    .dataframe thead th {\n",
       "        text-align: right;\n",
       "    }\n",
       "</style>\n",
       "<table border=\"1\" class=\"dataframe\">\n",
       "  <thead>\n",
       "    <tr style=\"text-align: right;\">\n",
       "      <th></th>\n",
       "      <th>sex</th>\n",
       "      <th>income</th>\n",
       "      <th>age</th>\n",
       "    </tr>\n",
       "  </thead>\n",
       "  <tbody>\n",
       "    <tr>\n",
       "      <th>0</th>\n",
       "      <td>F</td>\n",
       "      <td>11300.0</td>\n",
       "      <td>49.0</td>\n",
       "    </tr>\n",
       "    <tr>\n",
       "      <th>1</th>\n",
       "      <td>F</td>\n",
       "      <td>0.0</td>\n",
       "      <td>40.0</td>\n",
       "    </tr>\n",
       "    <tr>\n",
       "      <th>4</th>\n",
       "      <td>F</td>\n",
       "      <td>42000.0</td>\n",
       "      <td>31.0</td>\n",
       "    </tr>\n",
       "    <tr>\n",
       "      <th>5</th>\n",
       "      <td>F</td>\n",
       "      <td>NaN</td>\n",
       "      <td>40.0</td>\n",
       "    </tr>\n",
       "    <tr>\n",
       "      <th>9</th>\n",
       "      <td>F</td>\n",
       "      <td>24000.0</td>\n",
       "      <td>70.0</td>\n",
       "    </tr>\n",
       "    <tr>\n",
       "      <th>...</th>\n",
       "      <td>...</td>\n",
       "      <td>...</td>\n",
       "      <td>...</td>\n",
       "    </tr>\n",
       "    <tr>\n",
       "      <th>486</th>\n",
       "      <td>F</td>\n",
       "      <td>22800.0</td>\n",
       "      <td>55.0</td>\n",
       "    </tr>\n",
       "    <tr>\n",
       "      <th>489</th>\n",
       "      <td>F</td>\n",
       "      <td>59000.0</td>\n",
       "      <td>58.0</td>\n",
       "    </tr>\n",
       "    <tr>\n",
       "      <th>490</th>\n",
       "      <td>F</td>\n",
       "      <td>70200.0</td>\n",
       "      <td>32.0</td>\n",
       "    </tr>\n",
       "    <tr>\n",
       "      <th>495</th>\n",
       "      <td>F</td>\n",
       "      <td>21100.0</td>\n",
       "      <td>63.0</td>\n",
       "    </tr>\n",
       "    <tr>\n",
       "      <th>497</th>\n",
       "      <td>F</td>\n",
       "      <td>0.0</td>\n",
       "      <td>34.0</td>\n",
       "    </tr>\n",
       "  </tbody>\n",
       "</table>\n",
       "<p>226 rows × 3 columns</p>\n",
       "</div>"
      ],
      "text/plain": [
       "    sex   income   age\n",
       "0     F  11300.0  49.0\n",
       "1     F      0.0  40.0\n",
       "4     F  42000.0  31.0\n",
       "5     F      NaN  40.0\n",
       "9     F  24000.0  70.0\n",
       "..   ..      ...   ...\n",
       "486   F  22800.0  55.0\n",
       "489   F  59000.0  58.0\n",
       "490   F  70200.0  32.0\n",
       "495   F  21100.0  63.0\n",
       "497   F      0.0  34.0\n",
       "\n",
       "[226 rows x 3 columns]"
      ]
     },
     "execution_count": 74,
     "metadata": {},
     "output_type": "execute_result"
    }
   ],
   "source": [
    "#Extract  'sex', 'age', and 'income' columns\n",
    "#         for female customers\n",
    "data.loc[data['sex'] == 'F', ['sex', 'income', 'age']]"
   ]
  },
  {
   "cell_type": "code",
   "execution_count": 75,
   "metadata": {},
   "outputs": [
    {
     "data": {
      "text/plain": [
       "45.2"
      ]
     },
     "execution_count": 75,
     "metadata": {},
     "output_type": "execute_result"
    }
   ],
   "source": [
    "#What percentage of our customers are female?\n",
    "np.sum(data['sex'] == 'F') / data.shape[0] * 100"
   ]
  },
  {
   "cell_type": "code",
   "execution_count": 76,
   "metadata": {},
   "outputs": [
    {
     "data": {
      "text/plain": [
       "True     331\n",
       "False    104\n",
       "Name: is_employed, dtype: int64"
      ]
     },
     "execution_count": 76,
     "metadata": {},
     "output_type": "execute_result"
    }
   ],
   "source": [
    "#is.employed\n",
    "data['is_employed'].value_counts()"
   ]
  },
  {
   "cell_type": "code",
   "execution_count": 77,
   "metadata": {},
   "outputs": [
    {
     "data": {
      "text/plain": [
       "65"
      ]
     },
     "execution_count": 77,
     "metadata": {},
     "output_type": "execute_result"
    }
   ],
   "source": [
    "#Missing values?\n",
    "np.sum(data['is_employed'].isnull())"
   ]
  },
  {
   "cell_type": "code",
   "execution_count": 78,
   "metadata": {},
   "outputs": [
    {
     "data": {
      "text/plain": [
       "13.0"
      ]
     },
     "execution_count": 78,
     "metadata": {},
     "output_type": "execute_result"
    }
   ],
   "source": [
    "#Percentage of missing values in is_employed?\n",
    "np.sum(data['is_employed'].isna()) / data.shape[0] * 100"
   ]
  },
  {
   "cell_type": "code",
   "execution_count": 79,
   "metadata": {},
   "outputs": [
    {
     "data": {
      "text/plain": [
       "76.0919540229885"
      ]
     },
     "execution_count": 79,
     "metadata": {},
     "output_type": "execute_result"
    }
   ],
   "source": [
    "#What percentage of customers are employed?\n",
    "np.sum(data['is_employed'] == True) / np.sum(data['is_employed'].notnull()) * 100"
   ]
  },
  {
   "cell_type": "code",
   "execution_count": 80,
   "metadata": {},
   "outputs": [
    {
     "data": {
      "text/plain": [
       "count       493.000000\n",
       "mean      53899.584178\n",
       "std       64585.040596\n",
       "min           0.000000\n",
       "25%       15500.000000\n",
       "50%       34300.000000\n",
       "75%       70000.000000\n",
       "max      412000.000000\n",
       "Name: income, dtype: float64"
      ]
     },
     "execution_count": 80,
     "metadata": {},
     "output_type": "execute_result"
    }
   ],
   "source": [
    "#Income\n",
    "data['income'].describe()"
   ]
  },
  {
   "cell_type": "code",
   "execution_count": 81,
   "metadata": {},
   "outputs": [
    {
     "data": {
      "text/plain": [
       "7"
      ]
     },
     "execution_count": 81,
     "metadata": {},
     "output_type": "execute_result"
    }
   ],
   "source": [
    "np.sum(data['income'].isnull())"
   ]
  },
  {
   "cell_type": "code",
   "execution_count": 82,
   "metadata": {},
   "outputs": [
    {
     "data": {
      "text/plain": [
       "9.4"
      ]
     },
     "execution_count": 82,
     "metadata": {},
     "output_type": "execute_result"
    }
   ],
   "source": [
    "#Zero?\n",
    "np.sum(data['income'] == 0) / data.shape[0] * 100"
   ]
  },
  {
   "cell_type": "code",
   "execution_count": 83,
   "metadata": {},
   "outputs": [
    {
     "data": {
      "text/plain": [
       "count    500.000000\n",
       "mean      51.919626\n",
       "std       18.374129\n",
       "min       18.000000\n",
       "25%       38.000000\n",
       "50%       49.000000\n",
       "75%       64.000000\n",
       "max      137.700030\n",
       "Name: age, dtype: float64"
      ]
     },
     "execution_count": 83,
     "metadata": {},
     "output_type": "execute_result"
    }
   ],
   "source": [
    "#Age\n",
    "data['age'].describe()"
   ]
  },
  {
   "cell_type": "code",
   "execution_count": 84,
   "metadata": {},
   "outputs": [
    {
     "data": {
      "text/plain": [
       "3"
      ]
     },
     "execution_count": 84,
     "metadata": {},
     "output_type": "execute_result"
    }
   ],
   "source": [
    "#How many people are above 100 years old!?\n",
    "np.sum(data['age'] > 100)"
   ]
  },
  {
   "cell_type": "code",
   "execution_count": 85,
   "metadata": {},
   "outputs": [
    {
     "data": {
      "text/html": [
       "<div>\n",
       "<style scoped>\n",
       "    .dataframe tbody tr th:only-of-type {\n",
       "        vertical-align: middle;\n",
       "    }\n",
       "\n",
       "    .dataframe tbody tr th {\n",
       "        vertical-align: top;\n",
       "    }\n",
       "\n",
       "    .dataframe thead th {\n",
       "        text-align: right;\n",
       "    }\n",
       "</style>\n",
       "<table border=\"1\" class=\"dataframe\">\n",
       "  <thead>\n",
       "    <tr style=\"text-align: right;\">\n",
       "      <th></th>\n",
       "      <th>id</th>\n",
       "      <th>sex</th>\n",
       "      <th>is_employed</th>\n",
       "      <th>income</th>\n",
       "      <th>marital_status</th>\n",
       "      <th>health_insurance</th>\n",
       "      <th>housing_type</th>\n",
       "      <th>recent_move</th>\n",
       "      <th>num_vehicles</th>\n",
       "      <th>age</th>\n",
       "      <th>state_of_res</th>\n",
       "    </tr>\n",
       "  </thead>\n",
       "  <tbody>\n",
       "    <tr>\n",
       "      <th>212</th>\n",
       "      <td>287882</td>\n",
       "      <td>M</td>\n",
       "      <td>True</td>\n",
       "      <td>60000.0</td>\n",
       "      <td>Married</td>\n",
       "      <td>True</td>\n",
       "      <td>Rented</td>\n",
       "      <td>True</td>\n",
       "      <td>2.0</td>\n",
       "      <td>137.700030</td>\n",
       "      <td>Florida</td>\n",
       "    </tr>\n",
       "    <tr>\n",
       "      <th>266</th>\n",
       "      <td>364991</td>\n",
       "      <td>F</td>\n",
       "      <td>NaN</td>\n",
       "      <td>12000.0</td>\n",
       "      <td>Divorced/Separated</td>\n",
       "      <td>True</td>\n",
       "      <td>Homeowner with mortgage/loan</td>\n",
       "      <td>False</td>\n",
       "      <td>1.0</td>\n",
       "      <td>123.061023</td>\n",
       "      <td>Nevada</td>\n",
       "    </tr>\n",
       "    <tr>\n",
       "      <th>286</th>\n",
       "      <td>397230</td>\n",
       "      <td>F</td>\n",
       "      <td>True</td>\n",
       "      <td>31200.0</td>\n",
       "      <td>Married</td>\n",
       "      <td>True</td>\n",
       "      <td>Rented</td>\n",
       "      <td>False</td>\n",
       "      <td>2.0</td>\n",
       "      <td>136.052160</td>\n",
       "      <td>Texas</td>\n",
       "    </tr>\n",
       "  </tbody>\n",
       "</table>\n",
       "</div>"
      ],
      "text/plain": [
       "         id sex is_employed   income      marital_status  health_insurance  \\\n",
       "212  287882   M        True  60000.0             Married              True   \n",
       "266  364991   F         NaN  12000.0  Divorced/Separated              True   \n",
       "286  397230   F        True  31200.0             Married              True   \n",
       "\n",
       "                     housing_type recent_move  num_vehicles         age  \\\n",
       "212                        Rented        True           2.0  137.700030   \n",
       "266  Homeowner with mortgage/loan       False           1.0  123.061023   \n",
       "286                        Rented       False           2.0  136.052160   \n",
       "\n",
       "    state_of_res  \n",
       "212      Florida  \n",
       "266       Nevada  \n",
       "286        Texas  "
      ]
     },
     "execution_count": 85,
     "metadata": {},
     "output_type": "execute_result"
    }
   ],
   "source": [
    "#Who are they?\n",
    "data.loc[data['age'] > 100, ]"
   ]
  },
  {
   "cell_type": "code",
   "execution_count": 86,
   "metadata": {},
   "outputs": [],
   "source": [
    "#Remove people with age above 100\n",
    "data = data[data['age'] < 100]"
   ]
  },
  {
   "cell_type": "code",
   "execution_count": 87,
   "metadata": {},
   "outputs": [
    {
     "data": {
      "text/plain": [
       "(497, 11)"
      ]
     },
     "execution_count": 87,
     "metadata": {},
     "output_type": "execute_result"
    }
   ],
   "source": [
    "data.shape"
   ]
  },
  {
   "cell_type": "code",
   "execution_count": 88,
   "metadata": {},
   "outputs": [
    {
     "data": {
      "text/plain": [
       "count    497.000000\n",
       "mean      51.434608\n",
       "std       17.323542\n",
       "min       18.000000\n",
       "25%       38.000000\n",
       "50%       49.000000\n",
       "75%       63.000000\n",
       "max       93.000000\n",
       "Name: age, dtype: float64"
      ]
     },
     "execution_count": 88,
     "metadata": {},
     "output_type": "execute_result"
    }
   ],
   "source": [
    "data['age'].describe()"
   ]
  },
  {
   "cell_type": "code",
   "execution_count": 89,
   "metadata": {},
   "outputs": [
    {
     "data": {
      "text/html": [
       "<div>\n",
       "<style scoped>\n",
       "    .dataframe tbody tr th:only-of-type {\n",
       "        vertical-align: middle;\n",
       "    }\n",
       "\n",
       "    .dataframe tbody tr th {\n",
       "        vertical-align: top;\n",
       "    }\n",
       "\n",
       "    .dataframe thead th {\n",
       "        text-align: right;\n",
       "    }\n",
       "</style>\n",
       "<table border=\"1\" class=\"dataframe\">\n",
       "  <thead>\n",
       "    <tr style=\"text-align: right;\">\n",
       "      <th></th>\n",
       "      <th>sex</th>\n",
       "      <th>age</th>\n",
       "      <th>income</th>\n",
       "    </tr>\n",
       "  </thead>\n",
       "  <tbody>\n",
       "    <tr>\n",
       "      <th>15</th>\n",
       "      <td>M</td>\n",
       "      <td>54.0</td>\n",
       "      <td>34400.0</td>\n",
       "    </tr>\n",
       "    <tr>\n",
       "      <th>16</th>\n",
       "      <td>M</td>\n",
       "      <td>70.0</td>\n",
       "      <td>41000.0</td>\n",
       "    </tr>\n",
       "    <tr>\n",
       "      <th>19</th>\n",
       "      <td>M</td>\n",
       "      <td>68.0</td>\n",
       "      <td>18800.0</td>\n",
       "    </tr>\n",
       "    <tr>\n",
       "      <th>22</th>\n",
       "      <td>M</td>\n",
       "      <td>58.0</td>\n",
       "      <td>75000.0</td>\n",
       "    </tr>\n",
       "    <tr>\n",
       "      <th>30</th>\n",
       "      <td>M</td>\n",
       "      <td>66.0</td>\n",
       "      <td>22000.0</td>\n",
       "    </tr>\n",
       "    <tr>\n",
       "      <th>...</th>\n",
       "      <td>...</td>\n",
       "      <td>...</td>\n",
       "      <td>...</td>\n",
       "    </tr>\n",
       "    <tr>\n",
       "      <th>484</th>\n",
       "      <td>M</td>\n",
       "      <td>54.0</td>\n",
       "      <td>0.0</td>\n",
       "    </tr>\n",
       "    <tr>\n",
       "      <th>485</th>\n",
       "      <td>M</td>\n",
       "      <td>88.0</td>\n",
       "      <td>29200.0</td>\n",
       "    </tr>\n",
       "    <tr>\n",
       "      <th>491</th>\n",
       "      <td>M</td>\n",
       "      <td>62.0</td>\n",
       "      <td>82000.0</td>\n",
       "    </tr>\n",
       "    <tr>\n",
       "      <th>492</th>\n",
       "      <td>M</td>\n",
       "      <td>70.0</td>\n",
       "      <td>18200.0</td>\n",
       "    </tr>\n",
       "    <tr>\n",
       "      <th>493</th>\n",
       "      <td>M</td>\n",
       "      <td>63.0</td>\n",
       "      <td>12600.0</td>\n",
       "    </tr>\n",
       "  </tbody>\n",
       "</table>\n",
       "<p>126 rows × 3 columns</p>\n",
       "</div>"
      ],
      "text/plain": [
       "    sex   age   income\n",
       "15    M  54.0  34400.0\n",
       "16    M  70.0  41000.0\n",
       "19    M  68.0  18800.0\n",
       "22    M  58.0  75000.0\n",
       "30    M  66.0  22000.0\n",
       "..   ..   ...      ...\n",
       "484   M  54.0      0.0\n",
       "485   M  88.0  29200.0\n",
       "491   M  62.0  82000.0\n",
       "492   M  70.0  18200.0\n",
       "493   M  63.0  12600.0\n",
       "\n",
       "[126 rows x 3 columns]"
      ]
     },
     "execution_count": 89,
     "metadata": {},
     "output_type": "execute_result"
    }
   ],
   "source": [
    "#Extract  'sex', 'age', and 'income' columns\n",
    "#         for male customers who are above 50 years old\n",
    "data.loc[(data['age'] > 50) & (data['sex'] == 'M'), \n",
    "         ['sex', 'age', 'income']]"
   ]
  },
  {
   "cell_type": "code",
   "execution_count": 90,
   "metadata": {},
   "outputs": [
    {
     "data": {
      "text/plain": [
       "14.69"
      ]
     },
     "execution_count": 90,
     "metadata": {},
     "output_type": "execute_result"
    }
   ],
   "source": [
    "#What percentage of customers are between 25 and 35?\n",
    "round(np.sum((data['age'] > 25) & \n",
    "             (data['age'] < 35)) / data.shape[0] * 100, 2)"
   ]
  },
  {
   "cell_type": "code",
   "execution_count": 91,
   "metadata": {},
   "outputs": [
    {
     "data": {
      "text/plain": [
       "89.38"
      ]
     },
     "execution_count": 91,
     "metadata": {},
     "output_type": "execute_result"
    }
   ],
   "source": [
    "#What percentage of male customers are above 30?\n",
    "round(np.sum((data['sex'] == 'M') & \n",
    "             (data['age'] > 30)) / np.sum(data['sex'] == 'M') * 100, 2)"
   ]
  },
  {
   "cell_type": "code",
   "execution_count": 92,
   "metadata": {},
   "outputs": [
    {
     "data": {
      "text/html": [
       "<div>\n",
       "<style scoped>\n",
       "    .dataframe tbody tr th:only-of-type {\n",
       "        vertical-align: middle;\n",
       "    }\n",
       "\n",
       "    .dataframe tbody tr th {\n",
       "        vertical-align: top;\n",
       "    }\n",
       "\n",
       "    .dataframe thead th {\n",
       "        text-align: right;\n",
       "    }\n",
       "</style>\n",
       "<table border=\"1\" class=\"dataframe\">\n",
       "  <thead>\n",
       "    <tr style=\"text-align: right;\">\n",
       "      <th></th>\n",
       "      <th>id</th>\n",
       "      <th>sex</th>\n",
       "      <th>is_employed</th>\n",
       "      <th>income</th>\n",
       "      <th>marital_status</th>\n",
       "      <th>health_insurance</th>\n",
       "      <th>housing_type</th>\n",
       "      <th>recent_move</th>\n",
       "      <th>num_vehicles</th>\n",
       "      <th>age</th>\n",
       "      <th>state_of_res</th>\n",
       "    </tr>\n",
       "  </thead>\n",
       "  <tbody>\n",
       "    <tr>\n",
       "      <th>40</th>\n",
       "      <td>52197</td>\n",
       "      <td>M</td>\n",
       "      <td>False</td>\n",
       "      <td>65100.0</td>\n",
       "      <td>Married</td>\n",
       "      <td>True</td>\n",
       "      <td>Homeowner free and clear</td>\n",
       "      <td>False</td>\n",
       "      <td>2.0</td>\n",
       "      <td>66.0</td>\n",
       "      <td>Florida</td>\n",
       "    </tr>\n",
       "    <tr>\n",
       "      <th>78</th>\n",
       "      <td>98086</td>\n",
       "      <td>M</td>\n",
       "      <td>True</td>\n",
       "      <td>52100.0</td>\n",
       "      <td>Married</td>\n",
       "      <td>True</td>\n",
       "      <td>Homeowner with mortgage/loan</td>\n",
       "      <td>True</td>\n",
       "      <td>2.0</td>\n",
       "      <td>69.0</td>\n",
       "      <td>Florida</td>\n",
       "    </tr>\n",
       "    <tr>\n",
       "      <th>88</th>\n",
       "      <td>107458</td>\n",
       "      <td>M</td>\n",
       "      <td>True</td>\n",
       "      <td>182500.0</td>\n",
       "      <td>Married</td>\n",
       "      <td>True</td>\n",
       "      <td>Homeowner with mortgage/loan</td>\n",
       "      <td>True</td>\n",
       "      <td>2.0</td>\n",
       "      <td>66.0</td>\n",
       "      <td>Florida</td>\n",
       "    </tr>\n",
       "    <tr>\n",
       "      <th>159</th>\n",
       "      <td>195539</td>\n",
       "      <td>M</td>\n",
       "      <td>False</td>\n",
       "      <td>65700.0</td>\n",
       "      <td>Married</td>\n",
       "      <td>True</td>\n",
       "      <td>Rented</td>\n",
       "      <td>False</td>\n",
       "      <td>2.0</td>\n",
       "      <td>69.0</td>\n",
       "      <td>Florida</td>\n",
       "    </tr>\n",
       "    <tr>\n",
       "      <th>161</th>\n",
       "      <td>196828</td>\n",
       "      <td>M</td>\n",
       "      <td>True</td>\n",
       "      <td>24800.0</td>\n",
       "      <td>Married</td>\n",
       "      <td>True</td>\n",
       "      <td>Homeowner with mortgage/loan</td>\n",
       "      <td>False</td>\n",
       "      <td>3.0</td>\n",
       "      <td>65.0</td>\n",
       "      <td>Florida</td>\n",
       "    </tr>\n",
       "    <tr>\n",
       "      <th>244</th>\n",
       "      <td>337683</td>\n",
       "      <td>F</td>\n",
       "      <td>True</td>\n",
       "      <td>23100.0</td>\n",
       "      <td>Widowed</td>\n",
       "      <td>True</td>\n",
       "      <td>Rented</td>\n",
       "      <td>False</td>\n",
       "      <td>1.0</td>\n",
       "      <td>65.0</td>\n",
       "      <td>Florida</td>\n",
       "    </tr>\n",
       "    <tr>\n",
       "      <th>354</th>\n",
       "      <td>491848</td>\n",
       "      <td>F</td>\n",
       "      <td>NaN</td>\n",
       "      <td>16700.0</td>\n",
       "      <td>Widowed</td>\n",
       "      <td>True</td>\n",
       "      <td>Rented</td>\n",
       "      <td>False</td>\n",
       "      <td>1.0</td>\n",
       "      <td>84.0</td>\n",
       "      <td>Florida</td>\n",
       "    </tr>\n",
       "    <tr>\n",
       "      <th>361</th>\n",
       "      <td>499637</td>\n",
       "      <td>F</td>\n",
       "      <td>NaN</td>\n",
       "      <td>12000.0</td>\n",
       "      <td>Never Married</td>\n",
       "      <td>True</td>\n",
       "      <td>NaN</td>\n",
       "      <td>NaN</td>\n",
       "      <td>NaN</td>\n",
       "      <td>93.0</td>\n",
       "      <td>Florida</td>\n",
       "    </tr>\n",
       "  </tbody>\n",
       "</table>\n",
       "</div>"
      ],
      "text/plain": [
       "         id sex is_employed    income marital_status  health_insurance  \\\n",
       "40    52197   M       False   65100.0        Married              True   \n",
       "78    98086   M        True   52100.0        Married              True   \n",
       "88   107458   M        True  182500.0        Married              True   \n",
       "159  195539   M       False   65700.0        Married              True   \n",
       "161  196828   M        True   24800.0        Married              True   \n",
       "244  337683   F        True   23100.0        Widowed              True   \n",
       "354  491848   F         NaN   16700.0        Widowed              True   \n",
       "361  499637   F         NaN   12000.0  Never Married              True   \n",
       "\n",
       "                     housing_type recent_move  num_vehicles   age state_of_res  \n",
       "40       Homeowner free and clear       False           2.0  66.0      Florida  \n",
       "78   Homeowner with mortgage/loan        True           2.0  69.0      Florida  \n",
       "88   Homeowner with mortgage/loan        True           2.0  66.0      Florida  \n",
       "159                        Rented       False           2.0  69.0      Florida  \n",
       "161  Homeowner with mortgage/loan       False           3.0  65.0      Florida  \n",
       "244                        Rented       False           1.0  65.0      Florida  \n",
       "354                        Rented       False           1.0  84.0      Florida  \n",
       "361                           NaN         NaN           NaN  93.0      Florida  "
      ]
     },
     "execution_count": 92,
     "metadata": {},
     "output_type": "execute_result"
    }
   ],
   "source": [
    "#Extract those customers from Florida \n",
    "#        who are older than 75% of all customers\n",
    "data.loc[(data['state_of_res'] == 'Florida') & \n",
    "         (data['age'] > np.quantile(data['age'], 0.75)), :]"
   ]
  },
  {
   "cell_type": "code",
   "execution_count": 93,
   "metadata": {},
   "outputs": [
    {
     "data": {
      "text/html": [
       "<div>\n",
       "<style scoped>\n",
       "    .dataframe tbody tr th:only-of-type {\n",
       "        vertical-align: middle;\n",
       "    }\n",
       "\n",
       "    .dataframe tbody tr th {\n",
       "        vertical-align: top;\n",
       "    }\n",
       "\n",
       "    .dataframe thead th {\n",
       "        text-align: right;\n",
       "    }\n",
       "</style>\n",
       "<table border=\"1\" class=\"dataframe\">\n",
       "  <thead>\n",
       "    <tr style=\"text-align: right;\">\n",
       "      <th></th>\n",
       "      <th>id</th>\n",
       "      <th>sex</th>\n",
       "      <th>is_employed</th>\n",
       "      <th>income</th>\n",
       "      <th>marital_status</th>\n",
       "      <th>health_insurance</th>\n",
       "      <th>housing_type</th>\n",
       "      <th>recent_move</th>\n",
       "      <th>num_vehicles</th>\n",
       "      <th>age</th>\n",
       "      <th>state_of_res</th>\n",
       "    </tr>\n",
       "  </thead>\n",
       "  <tbody>\n",
       "    <tr>\n",
       "      <th>0</th>\n",
       "      <td>2068</td>\n",
       "      <td>F</td>\n",
       "      <td>False</td>\n",
       "      <td>11300.0</td>\n",
       "      <td>Married</td>\n",
       "      <td>True</td>\n",
       "      <td>Homeowner free and clear</td>\n",
       "      <td>False</td>\n",
       "      <td>2.0</td>\n",
       "      <td>49.0</td>\n",
       "      <td>Michigan</td>\n",
       "    </tr>\n",
       "    <tr>\n",
       "      <th>1</th>\n",
       "      <td>2073</td>\n",
       "      <td>F</td>\n",
       "      <td>False</td>\n",
       "      <td>0.0</td>\n",
       "      <td>Married</td>\n",
       "      <td>True</td>\n",
       "      <td>Rented</td>\n",
       "      <td>True</td>\n",
       "      <td>3.0</td>\n",
       "      <td>40.0</td>\n",
       "      <td>Florida</td>\n",
       "    </tr>\n",
       "    <tr>\n",
       "      <th>2</th>\n",
       "      <td>2848</td>\n",
       "      <td>M</td>\n",
       "      <td>True</td>\n",
       "      <td>45000.0</td>\n",
       "      <td>Never Married</td>\n",
       "      <td>False</td>\n",
       "      <td>Rented</td>\n",
       "      <td>True</td>\n",
       "      <td>3.0</td>\n",
       "      <td>29.0</td>\n",
       "      <td>Georgia</td>\n",
       "    </tr>\n",
       "    <tr>\n",
       "      <th>3</th>\n",
       "      <td>5641</td>\n",
       "      <td>M</td>\n",
       "      <td>True</td>\n",
       "      <td>20000.0</td>\n",
       "      <td>Never Married</td>\n",
       "      <td>False</td>\n",
       "      <td>Occupied with no rent</td>\n",
       "      <td>False</td>\n",
       "      <td>0.0</td>\n",
       "      <td>22.0</td>\n",
       "      <td>New Mexico</td>\n",
       "    </tr>\n",
       "    <tr>\n",
       "      <th>4</th>\n",
       "      <td>6369</td>\n",
       "      <td>F</td>\n",
       "      <td>True</td>\n",
       "      <td>42000.0</td>\n",
       "      <td>Never Married</td>\n",
       "      <td>True</td>\n",
       "      <td>Rented</td>\n",
       "      <td>True</td>\n",
       "      <td>1.0</td>\n",
       "      <td>31.0</td>\n",
       "      <td>Florida</td>\n",
       "    </tr>\n",
       "    <tr>\n",
       "      <th>...</th>\n",
       "      <td>...</td>\n",
       "      <td>...</td>\n",
       "      <td>...</td>\n",
       "      <td>...</td>\n",
       "      <td>...</td>\n",
       "      <td>...</td>\n",
       "      <td>...</td>\n",
       "      <td>...</td>\n",
       "      <td>...</td>\n",
       "      <td>...</td>\n",
       "      <td>...</td>\n",
       "    </tr>\n",
       "    <tr>\n",
       "      <th>495</th>\n",
       "      <td>685994</td>\n",
       "      <td>F</td>\n",
       "      <td>True</td>\n",
       "      <td>21100.0</td>\n",
       "      <td>Married</td>\n",
       "      <td>False</td>\n",
       "      <td>Homeowner free and clear</td>\n",
       "      <td>False</td>\n",
       "      <td>2.0</td>\n",
       "      <td>63.0</td>\n",
       "      <td>Maryland</td>\n",
       "    </tr>\n",
       "    <tr>\n",
       "      <th>496</th>\n",
       "      <td>688580</td>\n",
       "      <td>M</td>\n",
       "      <td>True</td>\n",
       "      <td>48000.0</td>\n",
       "      <td>Married</td>\n",
       "      <td>True</td>\n",
       "      <td>Rented</td>\n",
       "      <td>True</td>\n",
       "      <td>2.0</td>\n",
       "      <td>22.0</td>\n",
       "      <td>Florida</td>\n",
       "    </tr>\n",
       "    <tr>\n",
       "      <th>497</th>\n",
       "      <td>688736</td>\n",
       "      <td>F</td>\n",
       "      <td>NaN</td>\n",
       "      <td>0.0</td>\n",
       "      <td>Married</td>\n",
       "      <td>True</td>\n",
       "      <td>Rented</td>\n",
       "      <td>False</td>\n",
       "      <td>2.0</td>\n",
       "      <td>34.0</td>\n",
       "      <td>Iowa</td>\n",
       "    </tr>\n",
       "    <tr>\n",
       "      <th>498</th>\n",
       "      <td>692445</td>\n",
       "      <td>M</td>\n",
       "      <td>True</td>\n",
       "      <td>140000.0</td>\n",
       "      <td>Married</td>\n",
       "      <td>True</td>\n",
       "      <td>Homeowner with mortgage/loan</td>\n",
       "      <td>False</td>\n",
       "      <td>5.0</td>\n",
       "      <td>48.0</td>\n",
       "      <td>Illinois</td>\n",
       "    </tr>\n",
       "    <tr>\n",
       "      <th>499</th>\n",
       "      <td>693235</td>\n",
       "      <td>M</td>\n",
       "      <td>True</td>\n",
       "      <td>36200.0</td>\n",
       "      <td>Married</td>\n",
       "      <td>True</td>\n",
       "      <td>Homeowner free and clear</td>\n",
       "      <td>False</td>\n",
       "      <td>2.0</td>\n",
       "      <td>43.0</td>\n",
       "      <td>Michigan</td>\n",
       "    </tr>\n",
       "  </tbody>\n",
       "</table>\n",
       "<p>497 rows × 11 columns</p>\n",
       "</div>"
      ],
      "text/plain": [
       "         id sex is_employed    income marital_status  health_insurance  \\\n",
       "0      2068   F       False   11300.0        Married              True   \n",
       "1      2073   F       False       0.0        Married              True   \n",
       "2      2848   M        True   45000.0  Never Married             False   \n",
       "3      5641   M        True   20000.0  Never Married             False   \n",
       "4      6369   F        True   42000.0  Never Married              True   \n",
       "..      ...  ..         ...       ...            ...               ...   \n",
       "495  685994   F        True   21100.0        Married             False   \n",
       "496  688580   M        True   48000.0        Married              True   \n",
       "497  688736   F         NaN       0.0        Married              True   \n",
       "498  692445   M        True  140000.0        Married              True   \n",
       "499  693235   M        True   36200.0        Married              True   \n",
       "\n",
       "                     housing_type recent_move  num_vehicles   age state_of_res  \n",
       "0        Homeowner free and clear       False           2.0  49.0     Michigan  \n",
       "1                          Rented        True           3.0  40.0      Florida  \n",
       "2                          Rented        True           3.0  29.0      Georgia  \n",
       "3           Occupied with no rent       False           0.0  22.0   New Mexico  \n",
       "4                          Rented        True           1.0  31.0      Florida  \n",
       "..                            ...         ...           ...   ...          ...  \n",
       "495      Homeowner free and clear       False           2.0  63.0     Maryland  \n",
       "496                        Rented        True           2.0  22.0      Florida  \n",
       "497                        Rented       False           2.0  34.0         Iowa  \n",
       "498  Homeowner with mortgage/loan       False           5.0  48.0     Illinois  \n",
       "499      Homeowner free and clear       False           2.0  43.0     Michigan  \n",
       "\n",
       "[497 rows x 11 columns]"
      ]
     },
     "execution_count": 93,
     "metadata": {},
     "output_type": "execute_result"
    }
   ],
   "source": [
    "\n",
    "data\n"
   ]
  }
 ],
 "metadata": {
  "kernelspec": {
   "display_name": "Python 3 (ipykernel)",
   "language": "python",
   "name": "python3"
  },
  "language_info": {
   "codemirror_mode": {
    "name": "ipython",
    "version": 3
   },
   "file_extension": ".py",
   "mimetype": "text/x-python",
   "name": "python",
   "nbconvert_exporter": "python",
   "pygments_lexer": "ipython3",
   "version": "3.10.9"
  }
 },
 "nbformat": 4,
 "nbformat_minor": 4
}
